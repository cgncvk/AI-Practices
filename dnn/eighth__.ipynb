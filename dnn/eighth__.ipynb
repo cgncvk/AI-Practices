{
 "cells": [
  {
   "cell_type": "markdown",
   "id": "dbf25351",
   "metadata": {},
   "source": [
    "# Generative Adversarial Networks\n",
    "\n",
    "Generative Adversarial Network (GAN), Ian Goodfellow tarafından 2014 yılında icat edilen bir makine öğrenimi yöntemididir. İki sinir ağı bir oyunda birbiriyle yarışır. Bir eğitim seti verildiğinde, bu teknik, eğitim setiyle aynı istatistiklerle yeni veriler oluşturmayı öğrenir. Örneğin, fotoğraf taraması konusunda eğitilmiş bir GAN, birçok gerçekçi özelliğe sahip, insan gözlemciler için en azından yüzeysel olarak özgün görünen yeni fotoğraflar üretir. Başlangıçta denetimsiz öğrenme için üretken bir model olarak önerilmiş olsa da, GAN'ların yarı denetimli öğrenme, tam denetimli öğrenme ve pekiştirmeli öğrenme için de yararlı olduğu kanıtlanmıştır. </br>\n",
    "\n",
    "Bu derste MINST ve CIFAR gibi daha önce kullanılan veri kümeleri için otomatik olarak görüntüler oluşturmak üzere sinir ağları kullanılmıştır. Ayrıca, Toronto Yüz Veri Kümesi de kullanılmıştır.</br>\n",
    "\n",
    "<img src='gan1.png'/>\n",
    "<div align='center'>GAN tarafından üretilen görüntüler (Kaynak : Jeff Heaton, Applications of Deep Neural Networks)</div>\n",
    "\n",
    "Sadece şekil d'de, CNN'den yararlanılmıştır. Şekil A ve C'de, FCNN'den yararlanıılmıştır. Bu bölümde de  görüleceği gibi, CNN'lerin GAN'larla rolü büyük ölçüde artmıştır.</br>\n",
    "\n",
    "Bir GAN, yeni veri ürettiği için üretken model olarak adlandırılır.\n",
    "\n",
    "<img src='gan2.png'/>\n",
    "<div align='center'>GAN Yapısı (Kaynak : Jeff Heaton, Applications of Deep Neural Networks)</div>\n",
    "\n",
    "## Keras'ta DCGAN'ların Uygulanması\n",
    "\n",
    "Burada anlatılacak olan DCGAN uygulaması Radford, \"A., Metz, L., and Chintala, S.Unsupervised representation learning with deep convo-lutional generative adversarial networks.arXiv preprint arXiv:1511.06434(2015)\" çalışmasına dayanmaktadır ve aşağıdaki gibi uygulanmaktadır.</br>\n",
    "\n",
    "<li>Eğitim görüntülerine, tanh aktivasyon fonksiyonu [-1, 1] aralığına ölçeklendirmenin dışında  hiçbir ön işlem uygulanmamıştır.</li>\n",
    "<li>Tüm modeller mini-batch stochastic gradient descent (SGD) ile eğitilmiştir ve mini-batch size 128 alınmıştır.</li>\n",
    "<li>Tüm ağırlıklar, standart sapma 0.02 ile sıfır merkezli Normal dağılımla başlatılmıştır.</li>\n",
    "<li>LeakyReLU'da tüm modellerde alpha parametresi 0.2 olarak ayarlanmıştır.</li>\n",
    "<li>Optimizer olarak Adam kullanılmış ve learning rate olarak 0.0002 kullanılmıştır.</li>\n",
    "<li>Momentum değeri 0.5 olarak alınmıştır.</li>\n",
    "\n",
    "Ayrıca stabil Deep Convolutional GAN'lar için aşağıdaki mimari uygulanmıştır: </br>\n",
    "\n",
    "<li>Pooling Layer'lar strided convolutions (discriminator) ve fractional-strided convolutions(generator) ile değiştirilmiştir.</li>\n",
    "<li>Batchnorm hem discriminator hem de generator'da kullanılmıştır.</li>\n",
    "<li>Daha derin mimariler için fully connected layer kaldırılmıştır.</li>\n",
    "<li>Tanh kullanan çıktı dışındaki tüm katmanlar için generater'larda ReLU kullanılmıştır.</li>\n",
    "<li>Tüm katmanlar için discriminator'da LeakyReLU kullanılmıştır.</li>\n",
    "\n",
    "Bazı İnternet Kaynakları </br>\n",
    "<li><a href='https://www.tensorflow.org/tutorials/generative/dcgan'>Deep Convolutional Generative Adversarial Network</a></li>\n",
    "<li><a href='https://medium.com/@utk.is.here/keep-calm-and-train-a-gan-pitfalls-and-tips-on-training-generative-adversarial-networks-edd529764aa9'>Keep Calm and train a GAN. Pitfalls and Tips on training Generative Adversarial Networks</a></li>\n",
    "<li><a href='https://github.com/eriklindernoren/Keras-GAN'>Collection of Keras implementations of Generative Adversarial Networks</a></li>\n",
    "<li><a href='https://github.com/platonovsimeon/dcgan-facegenerator'>dcgan-facegenerator</a></li>\n",
    "\n",
    "<img src='gan3.png'/>\n",
    "<div align='center'>GAN Neural Network Eğitim Görüntüleri (Kaynak : Jeff Heaton, Applications of Deep Neural Networks)</div>\n",
    "\n",
    "<img src='gan4.png'/>\n",
    "<div align='center'>GAN'ları Değerlendirilmesi</div>"
   ]
  },
  {
   "cell_type": "code",
   "execution_count": null,
   "id": "381c0ddb",
   "metadata": {},
   "outputs": [],
   "source": []
  }
 ],
 "metadata": {
  "kernelspec": {
   "display_name": "Python 3",
   "language": "python",
   "name": "python3"
  },
  "language_info": {
   "codemirror_mode": {
    "name": "ipython",
    "version": 3
   },
   "file_extension": ".py",
   "mimetype": "text/x-python",
   "name": "python",
   "nbconvert_exporter": "python",
   "pygments_lexer": "ipython3",
   "version": "3.6.10"
  }
 },
 "nbformat": 4,
 "nbformat_minor": 5
}
