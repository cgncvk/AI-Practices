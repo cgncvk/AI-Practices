{
 "cells": [
  {
   "cell_type": "markdown",
   "id": "corporate-detective",
   "metadata": {},
   "source": [
    "#  ROC and AUC ile Çok Sınıflı Sınıflandırma(MultiClass Classification)"
   ]
  },
  {
   "cell_type": "markdown",
   "id": "naval-carpet",
   "metadata": {},
   "source": [
    "<li><b><font color=\"Blue\">İkili Sınıflandırma (Binary Classification) : </font></b> İki olasılık arasında sınıflandırma olarak tanımlanabilir. Örneğin; Bir kişinin kanser hastası olup olmaması.</li>\n",
    "<li><b><font color=\"Blue\">Sınıflandırma (Classification) : </font></b> İkiden fazla olasılık arasında sınıflandırma olarak tanımlanabilir. Örneğin; Örneğin resimdeki meyvenin; elma, armut veya şeftali olarak sınıflandırılması</li>\n",
    "<li><b><font color=\"Blue\">Regresyon (Regression) : </font></b> Sayısal olarak bir değerin tahmin edilmesi. Örneğin; bir şriketin verilerinin kullanılarak karlılığının tahmin edilmesi.</li>"
   ]
  },
  {
   "cell_type": "markdown",
   "id": "detailed-doctor",
   "metadata": {},
   "source": [
    "# İkili Sınıflandırma ve ROC(Receiver Operating Characteristic) Eğrisi"
   ]
  },
  {
   "cell_type": "markdown",
   "id": "rapid-thomson",
   "metadata": {},
   "source": [
    "İkili sınıflandırma yukarıda da bahsedildiği gibi iki olasılık arasında sınıflandırma olarak tanımlanabilmektedir. Örneğin; Doğru/Yanlış, Evet/Hayır, Uygun/Uygun Değil vb. </br>\n",
    "\n",
    "Bir bankanın başvuran bir müşteriye kredi kartı çıkarıp çıkarmayacağına karar vermek için bir model oluşturulabilir. </br>\n",
    "\n",
    "Bu noktada model değerlendirilirken göz önünde bulundurulacak amaç skor, false positive tahminlerin sayısı ile false negative tahminlerin sayılarıdır. <b>False Positive</b> ve <b>False Negative</b> hata türleridir. Kötü bir kredi riskine sahip kişiye kredi kartı vermek <i>False Positive</i> hatayı gösterir. İyi bir kredi riskine sahibi kişiye kredi kartı vermemek de <i>False Negative</i> hatayı gösterir. </br>\n",
    "\n",
    "Bir ROC eğrisi, tüm sınıflandırma eşiklerinde bir sınıflandırma modelinin performansını gösteren bir grafiktir. Bu eğri iki parametreyi çizer:(https://developers.google.com/machine-learning/crash-course/classification/roc-and-auc) </br>\n",
    "\n",
    "<li><b>TPR : </b> True Positive Rate</li>\n",
    "<li><b>FPR : </b> False Positive Rate</li>\n",
    "\n",
    "TPR, <b>recall</b> ile aynı metriği ifade eder. Duyarlılık (diğer adıyla recall), tüm TP'lerden kaçının Pozitif olarak tahmin edildiği anlamına gelir.\n",
    "<img src='tpr.png'>\n",
    "\n",
    "<img src='fpr.png'>\n",
    "\n",
    "<b>Specificity</b>, tüm TN'ler arasından kaçının Negatif olarak tahmin edildiği anlamına gelir.</br>\n",
    "\n",
    "<center><b><font color=\"blue\">Specificity = TN / (TN + FP)</font></b></center></br>\n",
    "\n",
    "<b>Precision</b>, tahmin edilen tüm Pozitif vakalardan kaçının gerçekten Pozitif olduğu anlamına gelir.</br>\n",
    "\n",
    "<center><b><font color=\"blue\">Precision = TP / (TP + FP)</font></b></center></br>\n",
    "\n",
    "<b>F1 Puanı</b>, harmonik veya ağırlıklı bir Precision ve Sensitivity ortalamasıdır ve sınıflandırma problemleri için yaygın olarak kullanılan bir doğruluk ölçüsüdür. </br>\n",
    "\n",
    "<center><b><font color=\"blue\">F1 Score = 2 * (Precision * Sensitivity) / (Precision + Sensitivity)</font></b></center></br>\n",
    "\n",
    "<li><b>True Positive (TP)</b> : Oluşturulan modelin kredi riski düşük kişiye kredi kartı verilmesi gerektiğini, yani doğru tahminde bulunduğunu gösterir.</li>\n",
    "<li><b>True Negative (TN)</b> : Oluşturulan modelin kredi riski yüksek kişiye kredi kartı verilmemesi gerektiğini, yani doğru tahminde bulunduğunu gösterir.</li>\n",
    "<li><b>False Positive (FP)</b> : Oluşturulan modelin kredi riski yüksek kişiye kredi kartı verilmesi gerektiğini, yani yanlış tahminde bulunduğunu gösterir.</li>\n",
    "<li><b>False Negative (FN)</b> : Oluşturulan modelin kredi riski düşük kişiye kredi kartı verilmemesi gerektiğini, yani yanlış tahminde bulunduğunu gösterir.</li>\n",
    "\n",
    "\n"
   ]
  },
  {
   "cell_type": "markdown",
   "id": "greatest-gravity",
   "metadata": {},
   "source": [
    "Sinir ağları, pozitif olma olasılığı açısından sınıflandırır. Bununla birlikte, hangi olasılıkla olumlu bir sonuç verilmektedir? Kesim% 50 mi? % 90 mı? Bu sınırın ayarlandığı değer eşik olarak adalndırılır. Sınırın üzerindeki her şey pozitiftir, aşağıdaki her şey negatiftir. Bu sınırın ayarlanması, modelin daha duyarlı veya spesifik olmasını sağlar </b>\n",
    "\n",
    "Bir ROC eğrisi, TPR ile FPR'yi farklı sınıflandırma eşiklerinde çizer. Sınıflandırma eşiğini düşürmek daha fazla öğeyi pozitif olarak sınıflandırır, böylece hem Yanlış Pozitifler hem de Doğru Pozitifler artar. (https://developers.google.com/machine-learning/crash-course/classification/roc-and-auc)\n",
    "\n",
    "<img src='roccurve.png'>\n",
    "\n",
    "\n",
    "\n"
   ]
  },
  {
   "cell_type": "code",
   "execution_count": 1,
   "id": "flexible-allen",
   "metadata": {},
   "outputs": [
    {
     "data": {
      "text/html": [
       "<div>\n",
       "<style scoped>\n",
       "    .dataframe tbody tr th:only-of-type {\n",
       "        vertical-align: middle;\n",
       "    }\n",
       "\n",
       "    .dataframe tbody tr th {\n",
       "        vertical-align: top;\n",
       "    }\n",
       "\n",
       "    .dataframe thead th {\n",
       "        text-align: right;\n",
       "    }\n",
       "</style>\n",
       "<table border=\"1\" class=\"dataframe\">\n",
       "  <thead>\n",
       "    <tr style=\"text-align: right;\">\n",
       "      <th></th>\n",
       "      <th>id</th>\n",
       "      <th>diagnosis</th>\n",
       "      <th>mean_radius</th>\n",
       "      <th>mean_texture</th>\n",
       "      <th>mean_perimeter</th>\n",
       "      <th>mean_area</th>\n",
       "      <th>mean_smoothness</th>\n",
       "      <th>mean_compactness</th>\n",
       "      <th>mean_concavity</th>\n",
       "      <th>mean_concave_points</th>\n",
       "      <th>...</th>\n",
       "      <th>worst_radius</th>\n",
       "      <th>worst_texture</th>\n",
       "      <th>worst_perimeter</th>\n",
       "      <th>worst_area</th>\n",
       "      <th>worst_smoothness</th>\n",
       "      <th>worst_compactness</th>\n",
       "      <th>worst_concavity</th>\n",
       "      <th>worst_concave_points</th>\n",
       "      <th>worst_symmetry</th>\n",
       "      <th>worst_fractal_dimension</th>\n",
       "    </tr>\n",
       "  </thead>\n",
       "  <tbody>\n",
       "    <tr>\n",
       "      <th>0</th>\n",
       "      <td>842302</td>\n",
       "      <td>M</td>\n",
       "      <td>17.99</td>\n",
       "      <td>10.38</td>\n",
       "      <td>122.80</td>\n",
       "      <td>1001.0</td>\n",
       "      <td>0.11840</td>\n",
       "      <td>0.27760</td>\n",
       "      <td>0.3001</td>\n",
       "      <td>0.14710</td>\n",
       "      <td>...</td>\n",
       "      <td>25.38</td>\n",
       "      <td>17.33</td>\n",
       "      <td>184.60</td>\n",
       "      <td>2019.0</td>\n",
       "      <td>0.1622</td>\n",
       "      <td>0.6656</td>\n",
       "      <td>0.7119</td>\n",
       "      <td>0.2654</td>\n",
       "      <td>0.4601</td>\n",
       "      <td>0.11890</td>\n",
       "    </tr>\n",
       "    <tr>\n",
       "      <th>1</th>\n",
       "      <td>842517</td>\n",
       "      <td>M</td>\n",
       "      <td>20.57</td>\n",
       "      <td>17.77</td>\n",
       "      <td>132.90</td>\n",
       "      <td>1326.0</td>\n",
       "      <td>0.08474</td>\n",
       "      <td>0.07864</td>\n",
       "      <td>0.0869</td>\n",
       "      <td>0.07017</td>\n",
       "      <td>...</td>\n",
       "      <td>24.99</td>\n",
       "      <td>23.41</td>\n",
       "      <td>158.80</td>\n",
       "      <td>1956.0</td>\n",
       "      <td>0.1238</td>\n",
       "      <td>0.1866</td>\n",
       "      <td>0.2416</td>\n",
       "      <td>0.1860</td>\n",
       "      <td>0.2750</td>\n",
       "      <td>0.08902</td>\n",
       "    </tr>\n",
       "    <tr>\n",
       "      <th>2</th>\n",
       "      <td>84300903</td>\n",
       "      <td>M</td>\n",
       "      <td>19.69</td>\n",
       "      <td>21.25</td>\n",
       "      <td>130.00</td>\n",
       "      <td>1203.0</td>\n",
       "      <td>0.10960</td>\n",
       "      <td>0.15990</td>\n",
       "      <td>0.1974</td>\n",
       "      <td>0.12790</td>\n",
       "      <td>...</td>\n",
       "      <td>23.57</td>\n",
       "      <td>25.53</td>\n",
       "      <td>152.50</td>\n",
       "      <td>1709.0</td>\n",
       "      <td>0.1444</td>\n",
       "      <td>0.4245</td>\n",
       "      <td>0.4504</td>\n",
       "      <td>0.2430</td>\n",
       "      <td>0.3613</td>\n",
       "      <td>0.08758</td>\n",
       "    </tr>\n",
       "    <tr>\n",
       "      <th>3</th>\n",
       "      <td>84348301</td>\n",
       "      <td>M</td>\n",
       "      <td>11.42</td>\n",
       "      <td>20.38</td>\n",
       "      <td>77.58</td>\n",
       "      <td>386.1</td>\n",
       "      <td>0.14250</td>\n",
       "      <td>0.28390</td>\n",
       "      <td>0.2414</td>\n",
       "      <td>0.10520</td>\n",
       "      <td>...</td>\n",
       "      <td>14.91</td>\n",
       "      <td>26.50</td>\n",
       "      <td>98.87</td>\n",
       "      <td>567.7</td>\n",
       "      <td>0.2098</td>\n",
       "      <td>0.8663</td>\n",
       "      <td>0.6869</td>\n",
       "      <td>0.2575</td>\n",
       "      <td>0.6638</td>\n",
       "      <td>0.17300</td>\n",
       "    </tr>\n",
       "    <tr>\n",
       "      <th>4</th>\n",
       "      <td>84358402</td>\n",
       "      <td>M</td>\n",
       "      <td>20.29</td>\n",
       "      <td>14.34</td>\n",
       "      <td>135.10</td>\n",
       "      <td>1297.0</td>\n",
       "      <td>0.10030</td>\n",
       "      <td>0.13280</td>\n",
       "      <td>0.1980</td>\n",
       "      <td>0.10430</td>\n",
       "      <td>...</td>\n",
       "      <td>22.54</td>\n",
       "      <td>16.67</td>\n",
       "      <td>152.20</td>\n",
       "      <td>1575.0</td>\n",
       "      <td>0.1374</td>\n",
       "      <td>0.2050</td>\n",
       "      <td>0.4000</td>\n",
       "      <td>0.1625</td>\n",
       "      <td>0.2364</td>\n",
       "      <td>0.07678</td>\n",
       "    </tr>\n",
       "  </tbody>\n",
       "</table>\n",
       "<p>5 rows × 32 columns</p>\n",
       "</div>"
      ],
      "text/plain": [
       "         id diagnosis  mean_radius  mean_texture  mean_perimeter  mean_area  \\\n",
       "0    842302         M        17.99         10.38          122.80     1001.0   \n",
       "1    842517         M        20.57         17.77          132.90     1326.0   \n",
       "2  84300903         M        19.69         21.25          130.00     1203.0   \n",
       "3  84348301         M        11.42         20.38           77.58      386.1   \n",
       "4  84358402         M        20.29         14.34          135.10     1297.0   \n",
       "\n",
       "   mean_smoothness  mean_compactness  mean_concavity  mean_concave_points  \\\n",
       "0          0.11840           0.27760          0.3001              0.14710   \n",
       "1          0.08474           0.07864          0.0869              0.07017   \n",
       "2          0.10960           0.15990          0.1974              0.12790   \n",
       "3          0.14250           0.28390          0.2414              0.10520   \n",
       "4          0.10030           0.13280          0.1980              0.10430   \n",
       "\n",
       "   ...  worst_radius  worst_texture  worst_perimeter  worst_area  \\\n",
       "0  ...         25.38          17.33           184.60      2019.0   \n",
       "1  ...         24.99          23.41           158.80      1956.0   \n",
       "2  ...         23.57          25.53           152.50      1709.0   \n",
       "3  ...         14.91          26.50            98.87       567.7   \n",
       "4  ...         22.54          16.67           152.20      1575.0   \n",
       "\n",
       "   worst_smoothness  worst_compactness  worst_concavity  worst_concave_points  \\\n",
       "0            0.1622             0.6656           0.7119                0.2654   \n",
       "1            0.1238             0.1866           0.2416                0.1860   \n",
       "2            0.1444             0.4245           0.4504                0.2430   \n",
       "3            0.2098             0.8663           0.6869                0.2575   \n",
       "4            0.1374             0.2050           0.4000                0.1625   \n",
       "\n",
       "   worst_symmetry  worst_fractal_dimension  \n",
       "0          0.4601                  0.11890  \n",
       "1          0.2750                  0.08902  \n",
       "2          0.3613                  0.08758  \n",
       "3          0.6638                  0.17300  \n",
       "4          0.2364                  0.07678  \n",
       "\n",
       "[5 rows x 32 columns]"
      ]
     },
     "execution_count": 1,
     "metadata": {},
     "output_type": "execute_result"
    }
   ],
   "source": [
    "# breast tumor diagnosis\n",
    "import pandas as pd\n",
    "\n",
    "df = pd.read_csv('https://data.heatonresearch.com/data/t81-558/wcbreast_wdbc.csv', \n",
    "                na_values =[ 'NA', '?'])\n",
    "df.head()\n"
   ]
  },
  {
   "cell_type": "code",
   "execution_count": 2,
   "id": "capable-kingdom",
   "metadata": {},
   "outputs": [
    {
     "name": "stdout",
     "output_type": "stream",
     "text": [
      "<class 'pandas.core.frame.DataFrame'>\n",
      "RangeIndex: 569 entries, 0 to 568\n",
      "Data columns (total 32 columns):\n",
      " #   Column                   Non-Null Count  Dtype  \n",
      "---  ------                   --------------  -----  \n",
      " 0   id                       569 non-null    int64  \n",
      " 1   diagnosis                569 non-null    object \n",
      " 2   mean_radius              569 non-null    float64\n",
      " 3   mean_texture             569 non-null    float64\n",
      " 4   mean_perimeter           569 non-null    float64\n",
      " 5   mean_area                569 non-null    float64\n",
      " 6   mean_smoothness          569 non-null    float64\n",
      " 7   mean_compactness         569 non-null    float64\n",
      " 8   mean_concavity           569 non-null    float64\n",
      " 9   mean_concave_points      569 non-null    float64\n",
      " 10  mean_symmetry            569 non-null    float64\n",
      " 11  mean_fractal_dimension   569 non-null    float64\n",
      " 12  se_radius                569 non-null    float64\n",
      " 13  se_texture               569 non-null    float64\n",
      " 14  se_perimeter             569 non-null    float64\n",
      " 15  se_area                  569 non-null    float64\n",
      " 16  se_smoothness            569 non-null    float64\n",
      " 17  se_compactness           569 non-null    float64\n",
      " 18  se_concavity             569 non-null    float64\n",
      " 19  se_concave_points        569 non-null    float64\n",
      " 20  se_symmetry              569 non-null    float64\n",
      " 21  se_fractal_dimension     569 non-null    float64\n",
      " 22  worst_radius             569 non-null    float64\n",
      " 23  worst_texture            569 non-null    float64\n",
      " 24  worst_perimeter          569 non-null    float64\n",
      " 25  worst_area               569 non-null    float64\n",
      " 26  worst_smoothness         569 non-null    float64\n",
      " 27  worst_compactness        569 non-null    float64\n",
      " 28  worst_concavity          569 non-null    float64\n",
      " 29  worst_concave_points     569 non-null    float64\n",
      " 30  worst_symmetry           569 non-null    float64\n",
      " 31  worst_fractal_dimension  569 non-null    float64\n",
      "dtypes: float64(30), int64(1), object(1)\n",
      "memory usage: 142.4+ KB\n"
     ]
    }
   ],
   "source": [
    "df.info()"
   ]
  },
  {
   "cell_type": "code",
   "execution_count": 3,
   "id": "approximate-handle",
   "metadata": {},
   "outputs": [
    {
     "data": {
      "text/plain": [
       "([], [])"
      ]
     },
     "execution_count": 3,
     "metadata": {},
     "output_type": "execute_result"
    },
    {
     "data": {
      "image/png": "[encoded data removed]",
      "text/plain": [
       "<Figure size 432x288 with 1 Axes>"
      ]
     },
     "metadata": {
      "needs_background": "light"
     },
     "output_type": "display_data"
    }
   ],
   "source": [
    "# source : Jeff Heaton, Applications of Deep Neural Networks\n",
    "\n",
    "import matplotlib.pyplot as plt\n",
    "import numpy as np\n",
    "import scipy.stats as stats\n",
    "import math\n",
    "\n",
    "mean1 = -2\n",
    "mean2 = 2\n",
    "variance = 1\n",
    "\n",
    "sigma = math.sqrt(variance)\n",
    "\n",
    "x1 = np.linspace(mean1 - 5 * sigma, mean1 + 4 * sigma, 1000)\n",
    "x2 = np.linspace(mean2 - 5 * sigma, mean2 + 4 * sigma, 1000)\n",
    "\n",
    "plt.plot(x1, stats.norm.pdf(x1, mean1, sigma), color='green', linestyle='dashed')\n",
    "plt.plot(x2, stats.norm.pdf(x2, mean2, sigma), color='red')\n",
    "\n",
    "plt.axvline(x=-2, color='black')\n",
    "plt.axvline(x=-0, color='black')\n",
    "plt.axvline(x=2, color='black')\n",
    "\n",
    "plt.text(-2.7, 0.55, 'Sensitive')\n",
    "plt.text(-0.7, 0.55, 'Balanced')\n",
    "plt.text(1.7, 0.55, 'Specific')\n",
    "\n",
    "plt.ylim([0, 0.53])\n",
    "plt.xlim([-5, 5])\n",
    "plt.legend(['Negatif', 'Pozitif'])\n",
    "plt.yticks([])"
   ]
  },
  {
   "cell_type": "markdown",
   "id": "adequate-highway",
   "metadata": {},
   "source": [
    "<img src=\"senstivityspecifity.png\"/>\n",
    "<center>https://www.technologynetworks.com/analysis/articles/sensitivity-vs-specificity-318222</center>\n",
    "\n",
    "Sonuçların kesin bir pozitif veya negatif yerine değişken bir değerler ölçeğinde verildiği durumlarda, duyarlılık ve özgüllük değerleri özellikle önemlidir. Bir sonucu pozitif veya negatif olarak adlandırmak için nerede kesitler çizileceğini belirlemeye veya hatta yeniden testin önerilebileceği gri bir alan önermeye izin verirler. Örneğin, pozitif bir sonucun sınırını çok düşük bir seviyeye (mor kesikli çizgi) konarak, tüm pozitif örnekler yakalanabilir ve bu nedenle test çok hassastır. Ancak bu, gerçekte negatif olan birçok örneğin pozitif olarak kabul edilebileceği anlamına gelebilir ve bu nedenle testin zayıf specificity'ye sahip olduğu kabul edilir. Bu nedenle, etkili ve kullanışlı bir test için bir denge bulmak çok önemlidir.</br>\n"
   ]
  },
  {
   "cell_type": "code",
   "execution_count": 3,
   "id": "disturbed-health",
   "metadata": {},
   "outputs": [
    {
     "data": {
      "text/plain": [
       "Index(['mean_radius', 'mean_texture', 'mean_perimeter', 'mean_area',\n",
       "       'mean_smoothness', 'mean_compactness', 'mean_concavity',\n",
       "       'mean_concave_points', 'mean_symmetry', 'mean_fractal_dimension',\n",
       "       'se_radius', 'se_texture', 'se_perimeter', 'se_area', 'se_smoothness',\n",
       "       'se_compactness', 'se_concavity', 'se_concave_points', 'se_symmetry',\n",
       "       'se_fractal_dimension', 'worst_radius', 'worst_texture',\n",
       "       'worst_perimeter', 'worst_area', 'worst_smoothness',\n",
       "       'worst_compactness', 'worst_concavity', 'worst_concave_points',\n",
       "       'worst_symmetry', 'worst_fractal_dimension'],\n",
       "      dtype='object')"
      ]
     },
     "execution_count": 3,
     "metadata": {},
     "output_type": "execute_result"
    }
   ],
   "source": [
    "X_col = df.columns.drop('diagnosis').drop('id')\n",
    "X_col"
   ]
  },
  {
   "cell_type": "code",
   "execution_count": 8,
   "id": "swiss-universal",
   "metadata": {},
   "outputs": [],
   "source": [
    "from sklearn.preprocessing import MinMaxScaler\n",
    "\n",
    "X = df[X_col].values\n",
    "minmax = MinMaxScaler().fit(X)\n",
    "X = minmax.transform(X)\n",
    "y = df.diagnosis.map({'M':1, 'B':0}).values"
   ]
  },
  {
   "cell_type": "code",
   "execution_count": 21,
   "id": "electoral-infrastructure",
   "metadata": {},
   "outputs": [
    {
     "data": {
      "text/plain": [
       "array([[0.521 , 0.0227, 0.546 , ..., 0.912 , 0.5985, 0.4189],\n",
       "       [0.6431, 0.2726, 0.6158, ..., 0.6392, 0.2336, 0.2229],\n",
       "       [0.6015, 0.3903, 0.5957, ..., 0.8351, 0.4037, 0.2134],\n",
       "       ...,\n",
       "       [0.4553, 0.6212, 0.4458, ..., 0.4873, 0.1287, 0.1519],\n",
       "       [0.6446, 0.6635, 0.6655, ..., 0.9107, 0.4971, 0.4523],\n",
       "       [0.0369, 0.5015, 0.0285, ..., 0.    , 0.2574, 0.1007]])"
      ]
     },
     "execution_count": 21,
     "metadata": {},
     "output_type": "execute_result"
    }
   ],
   "source": [
    "X"
   ]
  },
  {
   "cell_type": "code",
   "execution_count": 22,
   "id": "complex-tablet",
   "metadata": {},
   "outputs": [
    {
     "data": {
      "text/plain": [
       "array([1, 1, 1, 1, 1, 1, 1, 1, 1, 1, 1, 1, 1, 1, 1, 1, 1, 1, 1, 0, 0, 0,\n",
       "       1, 1, 1, 1, 1, 1, 1, 1, 1, 1, 1, 1, 1, 1, 1, 0, 1, 1, 1, 1, 1, 1,\n",
       "       1, 1, 0, 1, 0, 0, 0, 0, 0, 1, 1, 0, 1, 1, 0, 0, 0, 0, 1, 0, 1, 1,\n",
       "       0, 0, 0, 0, 1, 0, 1, 1, 0, 1, 0, 1, 1, 0, 0, 0, 1, 1, 0, 1, 1, 1,\n",
       "       0, 0, 0, 1, 0, 0, 1, 1, 0, 0, 0, 1, 1, 0, 0, 0, 0, 1, 0, 0, 1, 0,\n",
       "       0, 0, 0, 0, 0, 0, 0, 1, 1, 1, 0, 1, 1, 0, 0, 0, 1, 1, 0, 1, 0, 1,\n",
       "       1, 0, 1, 1, 0, 0, 1, 0, 0, 1, 0, 0, 0, 0, 1, 0, 0, 0, 0, 0, 0, 0,\n",
       "       0, 0, 1, 0, 0, 0, 0, 1, 1, 0, 1, 0, 0, 1, 1, 0, 0, 1, 1, 0, 0, 0,\n",
       "       0, 1, 0, 0, 1, 1, 1, 0, 1, 0, 1, 0, 0, 0, 1, 0, 0, 1, 1, 0, 1, 1,\n",
       "       1, 1, 0, 1, 1, 1, 0, 1, 0, 1, 0, 0, 1, 0, 1, 1, 1, 1, 0, 0, 1, 1,\n",
       "       0, 0, 0, 1, 0, 0, 0, 0, 0, 1, 1, 0, 0, 1, 0, 0, 1, 1, 0, 1, 0, 0,\n",
       "       0, 0, 1, 0, 0, 0, 0, 0, 1, 0, 1, 1, 1, 1, 1, 1, 1, 1, 1, 1, 1, 1,\n",
       "       1, 1, 0, 0, 0, 0, 0, 0, 1, 0, 1, 0, 0, 1, 0, 0, 1, 0, 1, 1, 0, 0,\n",
       "       0, 0, 0, 0, 0, 0, 0, 0, 0, 0, 0, 1, 0, 0, 1, 0, 1, 0, 0, 0, 0, 0,\n",
       "       0, 0, 0, 0, 0, 0, 0, 0, 0, 1, 0, 0, 0, 1, 0, 1, 0, 0, 0, 0, 1, 1,\n",
       "       1, 0, 0, 0, 0, 1, 0, 1, 0, 1, 0, 0, 0, 1, 0, 0, 0, 0, 0, 0, 0, 1,\n",
       "       1, 1, 0, 0, 0, 0, 0, 0, 0, 0, 0, 0, 0, 1, 1, 0, 1, 1, 1, 0, 1, 1,\n",
       "       0, 0, 0, 0, 0, 1, 0, 0, 0, 0, 0, 1, 0, 0, 0, 1, 0, 0, 1, 1, 0, 0,\n",
       "       0, 0, 0, 0, 1, 0, 0, 0, 0, 0, 0, 0, 1, 0, 0, 0, 0, 0, 1, 0, 0, 1,\n",
       "       0, 0, 0, 0, 0, 0, 0, 0, 0, 0, 0, 0, 1, 0, 1, 1, 0, 1, 0, 0, 0, 0,\n",
       "       0, 1, 0, 0, 1, 0, 1, 0, 0, 1, 0, 1, 0, 0, 0, 0, 0, 0, 0, 0, 1, 1,\n",
       "       0, 0, 0, 0, 0, 0, 1, 0, 0, 0, 0, 0, 0, 0, 0, 0, 0, 1, 0, 0, 0, 0,\n",
       "       0, 0, 0, 1, 0, 1, 0, 0, 1, 0, 0, 0, 0, 0, 1, 1, 0, 1, 0, 1, 0, 0,\n",
       "       0, 0, 0, 1, 0, 0, 1, 0, 1, 0, 1, 1, 0, 0, 0, 1, 0, 0, 0, 0, 0, 0,\n",
       "       0, 0, 0, 0, 0, 1, 0, 1, 1, 0, 0, 0, 0, 0, 0, 0, 0, 0, 0, 0, 0, 0,\n",
       "       0, 0, 0, 0, 0, 0, 0, 0, 0, 0, 0, 0, 1, 1, 1, 1, 1, 1, 0])"
      ]
     },
     "execution_count": 22,
     "metadata": {},
     "output_type": "execute_result"
    }
   ],
   "source": [
    "y"
   ]
  },
  {
   "cell_type": "code",
   "execution_count": 10,
   "id": "humanitarian-reservoir",
   "metadata": {},
   "outputs": [],
   "source": [
    "from tensorflow.keras.models import Sequential\n",
    "from tensorflow.keras.layers import Dense\n",
    "from tensorflow.keras.callbacks import EarlyStopping\n",
    "from sklearn.model_selection import train_test_split\n",
    "\n",
    "X_train, X_test, y_train, y_test =train_test_split(X, y, test_size=0.2, random_state=42)\n",
    "\n",
    "model = Sequential()\n",
    "model.add(Dense(100, input_dim=X.shape[1], activation='relu', kernel_initializer='random_normal'))\n",
    "model.add(Dense(50, activation='relu', kernel_initializer='random_normal'))\n",
    "model.add(Dense(25, activation='relu', kernel_initializer='random_normal'))\n",
    "model.add(Dense(1, activation='sigmoid', kernel_initializer='random_normal'))\n",
    "\n",
    "model.compile(loss='binary_crossentropy', optimizer='adam', metrics=['accuracy'])\n",
    "\n",
    "monitor = EarlyStopping(monitor='val_loss', min_delta=1e-3, patience=5,\n",
    "                       verbose=1, mode='auto', restore_best_weights=True)"
   ]
  },
  {
   "cell_type": "code",
   "execution_count": null,
   "id": "successful-choir",
   "metadata": {},
   "outputs": [],
   "source": []
  },
  {
   "cell_type": "code",
   "execution_count": 11,
   "id": "governing-tourist",
   "metadata": {},
   "outputs": [
    {
     "name": "stdout",
     "output_type": "stream",
     "text": [
      "Epoch 1/1000\n",
      "15/15 - 0s - loss: 0.6913 - accuracy: 0.6352 - val_loss: 0.6882 - val_accuracy: 0.7018\n",
      "Epoch 2/1000\n",
      "15/15 - 0s - loss: 0.6837 - accuracy: 0.7912 - val_loss: 0.6731 - val_accuracy: 0.8421\n",
      "Epoch 3/1000\n",
      "15/15 - 0s - loss: 0.6584 - accuracy: 0.8681 - val_loss: 0.6242 - val_accuracy: 0.9561\n",
      "Epoch 4/1000\n",
      "15/15 - 0s - loss: 0.5903 - accuracy: 0.8945 - val_loss: 0.5035 - val_accuracy: 0.9386\n",
      "Epoch 5/1000\n",
      "15/15 - 0s - loss: 0.4454 - accuracy: 0.9033 - val_loss: 0.3272 - val_accuracy: 0.9386\n",
      "Epoch 6/1000\n",
      "15/15 - 0s - loss: 0.3028 - accuracy: 0.8967 - val_loss: 0.2153 - val_accuracy: 0.9561\n",
      "Epoch 7/1000\n",
      "15/15 - 0s - loss: 0.2231 - accuracy: 0.9055 - val_loss: 0.1479 - val_accuracy: 0.9474\n",
      "Epoch 8/1000\n",
      "15/15 - 0s - loss: 0.1819 - accuracy: 0.9209 - val_loss: 0.1402 - val_accuracy: 0.9649\n",
      "Epoch 9/1000\n",
      "15/15 - 0s - loss: 0.1689 - accuracy: 0.9275 - val_loss: 0.1095 - val_accuracy: 0.9737\n",
      "Epoch 10/1000\n",
      "15/15 - 0s - loss: 0.1424 - accuracy: 0.9495 - val_loss: 0.0967 - val_accuracy: 0.9474\n",
      "Epoch 11/1000\n",
      "15/15 - 0s - loss: 0.1334 - accuracy: 0.9407 - val_loss: 0.0875 - val_accuracy: 0.9649\n",
      "Epoch 12/1000\n",
      "15/15 - 0s - loss: 0.1264 - accuracy: 0.9451 - val_loss: 0.0897 - val_accuracy: 0.9561\n",
      "Epoch 13/1000\n",
      "15/15 - 0s - loss: 0.1281 - accuracy: 0.9429 - val_loss: 0.0824 - val_accuracy: 0.9737\n",
      "Epoch 14/1000\n",
      "15/15 - 0s - loss: 0.1122 - accuracy: 0.9560 - val_loss: 0.1096 - val_accuracy: 0.9561\n",
      "Epoch 15/1000\n",
      "15/15 - 0s - loss: 0.1116 - accuracy: 0.9560 - val_loss: 0.0736 - val_accuracy: 0.9649\n",
      "Epoch 16/1000\n",
      "15/15 - 0s - loss: 0.0936 - accuracy: 0.9758 - val_loss: 0.0710 - val_accuracy: 0.9737\n",
      "Epoch 17/1000\n",
      "15/15 - 0s - loss: 0.0957 - accuracy: 0.9626 - val_loss: 0.0691 - val_accuracy: 0.9737\n",
      "Epoch 18/1000\n",
      "15/15 - 0s - loss: 0.0834 - accuracy: 0.9758 - val_loss: 0.0692 - val_accuracy: 0.9825\n",
      "Epoch 19/1000\n",
      "15/15 - 0s - loss: 0.0802 - accuracy: 0.9758 - val_loss: 0.0746 - val_accuracy: 0.9737\n",
      "Epoch 20/1000\n",
      "15/15 - 0s - loss: 0.0805 - accuracy: 0.9758 - val_loss: 0.0699 - val_accuracy: 0.9737\n",
      "Epoch 21/1000\n",
      "15/15 - 0s - loss: 0.0752 - accuracy: 0.9824 - val_loss: 0.0682 - val_accuracy: 0.9737\n",
      "Epoch 22/1000\n",
      "15/15 - 0s - loss: 0.0873 - accuracy: 0.9670 - val_loss: 0.0673 - val_accuracy: 0.9737\n",
      "Epoch 23/1000\n",
      "15/15 - 0s - loss: 0.0827 - accuracy: 0.9670 - val_loss: 0.0761 - val_accuracy: 0.9737\n",
      "Epoch 24/1000\n",
      "15/15 - 0s - loss: 0.0728 - accuracy: 0.9736 - val_loss: 0.0868 - val_accuracy: 0.9649\n",
      "Epoch 25/1000\n",
      "15/15 - 0s - loss: 0.0757 - accuracy: 0.9758 - val_loss: 0.0633 - val_accuracy: 0.9737\n",
      "Epoch 26/1000\n",
      "15/15 - 0s - loss: 0.0656 - accuracy: 0.9780 - val_loss: 0.0622 - val_accuracy: 0.9737\n",
      "Epoch 27/1000\n",
      "15/15 - 0s - loss: 0.0655 - accuracy: 0.9780 - val_loss: 0.0659 - val_accuracy: 0.9737\n",
      "Epoch 28/1000\n",
      "15/15 - 0s - loss: 0.0671 - accuracy: 0.9824 - val_loss: 0.0631 - val_accuracy: 0.9737\n",
      "Epoch 29/1000\n",
      "15/15 - 0s - loss: 0.0678 - accuracy: 0.9758 - val_loss: 0.0688 - val_accuracy: 0.9737\n",
      "Epoch 30/1000\n",
      "15/15 - 0s - loss: 0.0633 - accuracy: 0.9780 - val_loss: 0.0717 - val_accuracy: 0.9737\n",
      "Epoch 31/1000\n",
      "15/15 - 0s - loss: 0.0582 - accuracy: 0.9824 - val_loss: 0.0601 - val_accuracy: 0.9737\n",
      "Epoch 32/1000\n",
      "15/15 - 0s - loss: 0.0583 - accuracy: 0.9802 - val_loss: 0.0668 - val_accuracy: 0.9737\n",
      "Epoch 33/1000\n",
      "15/15 - 0s - loss: 0.0589 - accuracy: 0.9846 - val_loss: 0.0582 - val_accuracy: 0.9825\n",
      "Epoch 34/1000\n",
      "15/15 - 0s - loss: 0.0582 - accuracy: 0.9824 - val_loss: 0.0589 - val_accuracy: 0.9737\n",
      "Epoch 35/1000\n",
      "15/15 - 0s - loss: 0.0680 - accuracy: 0.9758 - val_loss: 0.0626 - val_accuracy: 0.9737\n",
      "Epoch 36/1000\n",
      "15/15 - 0s - loss: 0.0645 - accuracy: 0.9736 - val_loss: 0.0730 - val_accuracy: 0.9737\n",
      "Epoch 37/1000\n",
      "15/15 - 0s - loss: 0.0566 - accuracy: 0.9824 - val_loss: 0.0618 - val_accuracy: 0.9737\n",
      "Epoch 38/1000\n",
      "Restoring model weights from the end of the best epoch.\n",
      "15/15 - 0s - loss: 0.0585 - accuracy: 0.9824 - val_loss: 0.0619 - val_accuracy: 0.9737\n",
      "Epoch 00038: early stopping\n"
     ]
    },
    {
     "data": {
      "text/plain": [
       "<tensorflow.python.keras.callbacks.History at 0x7fd20802e588>"
      ]
     },
     "execution_count": 11,
     "metadata": {},
     "output_type": "execute_result"
    }
   ],
   "source": [
    "model.fit(X_train, y_train, validation_data=(X_test, y_test), callbacks=[monitor], verbose=2,\n",
    "         epochs=1000)"
   ]
  },
  {
   "cell_type": "code",
   "execution_count": 12,
   "id": "legislative-quarterly",
   "metadata": {},
   "outputs": [],
   "source": [
    "prediction = model.predict(X_test)"
   ]
  },
  {
   "cell_type": "code",
   "execution_count": 14,
   "id": "metric-buyer",
   "metadata": {},
   "outputs": [
    {
     "data": {
      "text/plain": [
       "<matplotlib.legend.Legend at 0x7fd17476d4a8>"
      ]
     },
     "execution_count": 14,
     "metadata": {},
     "output_type": "execute_result"
    },
    {
     "data": {
      "image/png": "[encoded data removed]",
      "text/plain": [
       "<Figure size 432x288 with 1 Axes>"
      ]
     },
     "metadata": {
      "needs_background": "light"
     },
     "output_type": "display_data"
    }
   ],
   "source": [
    "from sklearn.metrics import roc_curve, auc, confusion_matrix, accuracy_score\n",
    "import matplotlib.pyplot as plt\n",
    "\n",
    "fpr, tpr, thrs = roc_curve(y_test, prediction)\n",
    "roc_auc = auc(fpr, tpr)\n",
    "\n",
    "plt.figure()\n",
    "plt.plot(fpr, tpr, label=f'ROC Curve area={roc_auc}')\n",
    "plt.plot([0, 1], [0, 1], 'k--')\n",
    "plt.xlim([0.0, 1.0])\n",
    "plt.ylim([0.0, 1.05])\n",
    "plt.xlabel('False Positive Rate')\n",
    "plt.ylabel('True Positive Rate')\n",
    "plt.title('ROC Curve')\n",
    "plt.legend(loc='lower right')"
   ]
  },
  {
   "cell_type": "code",
   "execution_count": 16,
   "id": "abroad-smith",
   "metadata": {},
   "outputs": [
    {
     "data": {
      "image/png": "[encoded data removed]",
      "text/plain": [
       "<Figure size 432x288 with 2 Axes>"
      ]
     },
     "metadata": {
      "needs_background": "light"
     },
     "output_type": "display_data"
    }
   ],
   "source": [
    "import numpy as np\n",
    "\n",
    "prediction_new = (prediction >0.5)\n",
    "cm = confusion_matrix(y_test, prediction_new)\n",
    "names = ['Malignant', 'Benign']\n",
    "plt.imshow(cm,interpolation='nearest', cmap='jet')\n",
    "plt.title('Confusion Matrix')\n",
    "plt.colorbar()\n",
    "tick_marks = np.arange(len(names))\n",
    "plt.xticks(tick_marks, names, rotation=45)\n",
    "plt.yticks(tick_marks, names)\n",
    "plt.tight_layout()"
   ]
  },
  {
   "cell_type": "code",
   "execution_count": 18,
   "id": "fewer-appreciation",
   "metadata": {},
   "outputs": [
    {
     "data": {
      "text/plain": [
       "0.9824561403508771"
      ]
     },
     "execution_count": 18,
     "metadata": {},
     "output_type": "execute_result"
    }
   ],
   "source": [
    "accuracy_score(prediction_new, y_test)"
   ]
  },
  {
   "cell_type": "markdown",
   "id": "current-physiology",
   "metadata": {},
   "source": [
    "# Sınıflanırma Log Loss Hesaplama"
   ]
  },
  {
   "cell_type": "markdown",
   "id": "cloudy-australia",
   "metadata": {},
   "source": [
    "Sinir ağları, hedef sınıfların her birinin bir olasılığını tahmin edebilir. Sinir ağları, daha olası tahminlere yüksek olasılıklar verir. Log Loss, yanlış cevaplarda güveni cezalandıran bir hata ölçüsüdür. Düşük Log Loss değeri istenir."
   ]
  },
  {
   "cell_type": "markdown",
   "id": "ruled-student",
   "metadata": {},
   "source": [
    "source: https://towardsdatascience.com/intuition-behind-log-loss-score-4e0c9979680a\n",
    "\n",
    "Log Loss,  bir sınıflandırma probleminin performansını değerlendirmek için en önemli ölçütlerden biridir. İkili sınıflandırma algoritmaları, önce sınıf 1 altında sınıflandırılacak bir kaydın olasılığını tahmin eder ve ardından olasılığın genellikle belirlenen bir eşik değerini geçip geçmediğine bağlı olarak veri noktasını (kaydı) iki sınıftan biri (1 veya 0) altında sınıflandırır. Bu eşik değer genellikle 0.5'dir.\n",
    "\n",
    "<img src=\"logloss1.png\" />\n",
    "\n",
    "Log Loss, tahmin olasılığının karşılık gelen gerçek değere ne kadar yakın olduğunun göstergesidir (ikili sınıflandırma durumunda 0 veya 1). Tahmin edilen olasılık gerçek değerden ne kadar saparsa, log loss değeri o kadar yüksek olur. </br>\n",
    "\n",
    "E-postalar için spam ve ham arasındaki sınıflandırma problemini olsun. Spam sınıfı 1 ve ham sınıf 0 olarak gösterilsin. Bir spam e-postayı (gerçek değer = 1) 1 olasılıkla spam olarak tahmin eden istatistiksel bir model oluşturulsun. Burada gözlemin tahminiyle ilişkili log loss değeri 0'dır ve hiçbir sapma / hata olmadığını gösterir. </b>\n",
    "\n",
    "0.9 olasılıkla tahmin edilen başka bir spam e-posta için Log Loss değeri sıfırdan fazladır (tam olarak 0,105). </br>\n",
    "\n",
    "Bir de ham e-posta için durumu açıklayalım. Model, 0.2 olasılıkla spam olarak tahmin etsin, bu da modelin onu ham olarak sınıflandıracağını söylemenin başka bir yoludur (varsayılan olasılık eşiği 0,5 varsayılırsa). Tahmin olasılığı ile 0 olan gerçek değer arasındaki mutlak fark (ham olduğu için) 0,2'dir. Tahminle ilişkili Log Loss değeri 0.223'tür. </br>\n",
    "\n",
    "Burada dikkat edimesi gereken nokta, daha zayıf  bir tahminin log loss değerinin daha iyi bir tahmininkinden daha yüksek olmasıdır. </br>\n",
    "\n",
    "Şimdi, 1.0, 0.7, 0.3, 0.009 ve 0.0001 gibi çok çeşitli olasılıklarla tahmin edilen 5 farklı spam e-postası olsun. Burada log loss değerinin üssel bir artış olduğu gözlemlenmektedir.\n",
    "\n",
    "<img src=\"logloss2.png\" />\n",
    "\n",
    "0 ile 1 arasında olası tüm tahmin olasılıklarına sahip spam e-postaları tahmin edilseydi, grafik aşağıdaki gibi görünecektir. Gerçek 1 gözlemin tahmin olasılığı ne kadar düşükse, log kaybı değeri o kadar yüksek olur. \n",
    "\n",
    "<img src=\"logloss3.png\" />\n",
    "\n",
    "Benzer şekilde, geniş bir olasılık aralığında tahmin edilen ham e-postalar için, grafik yukarıdaki grafiğin bir ayna görüntüsü olarak aşağıdaki gibi görünecektir. Gerçek 0 gözlemin tahmin olasılığı ne kadar yüksekse, log kaybı değeri de o kadar yüksek olur. \n",
    "\n",
    "<img src=\"logloss4.png\" />\n",
    "\n",
    "Bir sınıflandırma modelini eğitirken, gözlemin gerçek değere (0 veya 1) mümkün olduğunca yakın bir olasılıkla tahmin edilmesi istenir. Bu nedenle, log loss, sınıflandırma modellerini eğitmek ve optimize etmek için bir kayıp işlevi olarak iyi bir seçimdir, burada tahmin olasılığı gerçek değerinden ne kadar uzakta olursa, tahmin cezalandırılır. </br>\n",
    "\n",
    "<img src=\"logloss5.png\" />\n",
    "\n",
    "Burada i verilen gözlemin sırasını,  y gerçek değeri, p tahmin olasılığını göstermektedir.</br>\n",
    "\n",
    "<img src=\"logloss6.png\" />\n",
    "\n",
    "<img src=\"logloss7.png\" />\n",
    "\n",
    "Mükemmel  bir modelin log loss değeri 0'dır. Diğer bir deyişle, model her bir gözlemin olasılığını gerçek değer olarak tahmin eder.\n",
    "\n",
    "Bir regresyon problemi için ortalama hata karesi (MSE)  neyse bir sınıflandırma problemi için log loss skoru da odur. Her iki ölçüm de tahminlerin gerçek değerlerden ne kadar uzakta olduğunu göstererek tahmin sonuçlarının ne kadar iyi veya kötü olduğunu gösterir.</br>\n",
    "\n",
    "<img src=\"logloss8.png\" />\n",
    "\n",
    "<img src=\"logloss9.png\" />\n",
    "<center>Kaynak : https://towardsdatascience.com/estimate-model-performance-with-log-loss-like-a-pro-9f47d13c8865</center>\n",
    "\n",
    "<b>Veri Dengesiz Olduğu Zaman Ne yapılmalı</b>Kaynak : https://towardsdatascience.com/estimate-model-performance-with-log-loss-like-a-pro-9f47d13c8865 </br>\n",
    "\n",
    "Bir çikolata kutusu içerisinde üç parça bitter çikolata ve yedi parça beyaz çikolata olsun. Bitter çikolata çıkarma şansı 50-50 değildir. </br>\n",
    "\n",
    "Burada bitter çikolata seçme olasılığı, p = Pr (y = bitter) = 3/10 = 0.3 olur. bitter çikolata 1’lerle ve beyaz çikolatalar 0’larla değiştirilip aşağıdaki hesaplamalar yapılmıştır. </br>\n",
    "\n",
    "<img src=\"logloss11.png\" />\n",
    "<center>5 Bitter 5 Beyaz Çikolata</center>\n",
    "![image-2.png](attachment:image-2.png)\n",
    "<img src=\"logloss10.png\" />\n",
    "<center>3 Bitter 7 Beyaz Çikolata</center>\n",
    "\n",
    "<img src=\"logloss12.png\" />\n",
    "<center>3 Bitter 7 Beyaz Çikolata 10  Sütlü Çikolata</center>\n",
    "\n",
    "Bu durumda aşağıdaki fonksiyon çalıştırılarak sonuçlar yorumlanmalıdır\n",
    "\n",
    "\n"
   ]
  },
  {
   "cell_type": "code",
   "execution_count": 27,
   "id": "honest-washer",
   "metadata": {},
   "outputs": [],
   "source": [
    "from sklearn.metrics import log_loss\n",
    "\n",
    "def calculate_log_loss(class_ratio,multi=10000):\n",
    "    \n",
    "    if sum(class_ratio)!=1.0:\n",
    "        print(\"Uyarı: En iyi sonuç için oranlar toplamı 1 olmalıdır\")\n",
    "        class_ratio[-1]+=1-sum(class_ratio)  # add the residual to last class's ratio\n",
    "    \n",
    "    actuals=[]\n",
    "    for i,val in enumerate(class_ratio):\n",
    "        actuals=actuals+[i for x in range(int(val*multi))]\n",
    "\n",
    "    preds=[]\n",
    "    for i in range(multi):\n",
    "        preds+=[class_ratio]\n",
    "        \n",
    "    return (log_loss(actuals, preds))"
   ]
  },
  {
   "cell_type": "markdown",
   "id": "sealed-chorus",
   "metadata": {},
   "source": [
    "Yukarıda, sınıflarınızın oranlarının bir listesini girdi olarak alan ve rastgele bir tahmin log loss çıkaran bir python fonksiyonu yer almaktadır. Modelinizin log loss değeri bu sayıdan azsa, model doğrudur!"
   ]
  },
  {
   "cell_type": "code",
   "execution_count": 21,
   "id": "younger-friendship",
   "metadata": {},
   "outputs": [
    {
     "data": {
      "text/plain": [
       "0.6931471805599453"
      ]
     },
     "execution_count": 21,
     "metadata": {},
     "output_type": "execute_result"
    }
   ],
   "source": [
    "logloss=calculate_log_loss([.5,.5],multi=100)\n",
    "logloss"
   ]
  },
  {
   "cell_type": "code",
   "execution_count": 22,
   "id": "dietary-irrigation",
   "metadata": {},
   "outputs": [
    {
     "data": {
      "text/plain": [
       "0.6108643020548936"
      ]
     },
     "execution_count": 22,
     "metadata": {},
     "output_type": "execute_result"
    }
   ],
   "source": [
    "logloss=calculate_log_loss([.3,.7],multi=100)\n",
    "logloss"
   ]
  },
  {
   "cell_type": "code",
   "execution_count": 25,
   "id": "integral-wesley",
   "metadata": {},
   "outputs": [
    {
     "data": {
      "text/plain": [
       "0.9985793315873923"
      ]
     },
     "execution_count": 25,
     "metadata": {},
     "output_type": "execute_result"
    }
   ],
   "source": [
    "logloss=calculate_log_loss([.15,.35,.5],multi=100)\n",
    "logloss"
   ]
  },
  {
   "cell_type": "code",
   "execution_count": 20,
   "id": "vietnamese-advocacy",
   "metadata": {},
   "outputs": [],
   "source": [
    "np.set_printoptions(precision=4)\n",
    "np.set_printoptions(suppress=True)"
   ]
  },
  {
   "cell_type": "code",
   "execution_count": 14,
   "id": "ideal-trunk",
   "metadata": {},
   "outputs": [
    {
     "data": {
      "text/plain": [
       "array([[0.4475],\n",
       "       [0.992 ],\n",
       "       [0.9778],\n",
       "       [0.0053],\n",
       "       [0.0077]], dtype=float32)"
      ]
     },
     "execution_count": 14,
     "metadata": {},
     "output_type": "execute_result"
    }
   ],
   "source": [
    "prediction[0:5]"
   ]
  },
  {
   "cell_type": "code",
   "execution_count": 15,
   "id": "elder-butler",
   "metadata": {},
   "outputs": [
    {
     "data": {
      "text/plain": [
       "array([44.7461], dtype=float32)"
      ]
     },
     "execution_count": 15,
     "metadata": {},
     "output_type": "execute_result"
    }
   ],
   "source": [
    "prediction[0] * 100"
   ]
  },
  {
   "cell_type": "code",
   "execution_count": 19,
   "id": "false-huntington",
   "metadata": {},
   "outputs": [
    {
     "data": {
      "text/plain": [
       "0.05822066246742496"
      ]
     },
     "execution_count": 19,
     "metadata": {},
     "output_type": "execute_result"
    }
   ],
   "source": [
    "from sklearn.metrics import log_loss\n",
    "logloss_score = log_loss(y_test, prediction)\n",
    "logloss_score"
   ]
  },
  {
   "cell_type": "code",
   "execution_count": null,
   "id": "generic-forest",
   "metadata": {},
   "outputs": [],
   "source": []
  }
 ],
 "metadata": {
  "kernelspec": {
   "display_name": "Python 3",
   "language": "python",
   "name": "python3"
  },
  "language_info": {
   "codemirror_mode": {
    "name": "ipython",
    "version": 3
   },
   "file_extension": ".py",
   "mimetype": "text/x-python",
   "name": "python",
   "nbconvert_exporter": "python",
   "pygments_lexer": "ipython3",
   "version": "3.6.10"
  }
 },
 "nbformat": 4,
 "nbformat_minor": 5
}
