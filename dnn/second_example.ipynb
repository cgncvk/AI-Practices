{
 "cells": [
  {
   "cell_type": "markdown",
   "id": "latest-family",
   "metadata": {},
   "source": [
    "# Overfitting'i Önlemek İçin Erken Durdurma"
   ]
  },
  {
   "cell_type": "markdown",
   "id": "steady-boost",
   "metadata": {},
   "source": [
    "<img src=\"overfit.jpg\"/>\n",
    "<center><b>Kaynak : https://www.veribilimiokulu.com/blog/overfitting/</b></center>"
   ]
  },
  {
   "cell_type": "markdown",
   "id": "vocal-rebel",
   "metadata": {},
   "source": [
    " <img src='variancebias.png'/>\n",
    " <center><b>Kaynak : https://medium.com/datarunner/bias-ve-varyans-dengesi-%C3%BCzerinden-overfitting-ve-underfitting-durumlar%C4%B1n%C4%B1n-anla%C5%9F%C4%B1lmas%C4%B1-ca26cea65bb4#:~:text=Bias%3A%20Hata%2Fyanl%C4%B1l%C4%B1k%2Fsapma,nas%C4%B1l%20yay%C4%B1ld%C4%B1%C4%9F%C4%B1n%C4%B1%20bize%20g%C3%B6steren%20de%C4%9Ferdir.</b></center>"
   ]
  },
  {
   "cell_type": "markdown",
   "id": "attended-housing",
   "metadata": {},
   "source": [
    "Modelleme yapılacak veri kümesini 2 gruba ayırmakta fayda vardır.\n",
    "<li>Eğitim Seti</li>\n",
    "<li>Test Seti</li>"
   ]
  },
  {
   "cell_type": "code",
   "execution_count": 1,
   "id": "biological-highlight",
   "metadata": {},
   "outputs": [],
   "source": [
    "import pandas as pd\n",
    "from sklearn.model_selection import train_test_split\n",
    "from tensorflow.keras.models import Sequential\n",
    "from tensorflow.keras.layers import Dense\n",
    "from tensorflow.keras.callbacks import EarlyStopping"
   ]
  },
  {
   "cell_type": "code",
   "execution_count": 2,
   "id": "graduate-thumb",
   "metadata": {},
   "outputs": [
    {
     "data": {
      "text/html": [
       "<div>\n",
       "<style scoped>\n",
       "    .dataframe tbody tr th:only-of-type {\n",
       "        vertical-align: middle;\n",
       "    }\n",
       "\n",
       "    .dataframe tbody tr th {\n",
       "        vertical-align: top;\n",
       "    }\n",
       "\n",
       "    .dataframe thead th {\n",
       "        text-align: right;\n",
       "    }\n",
       "</style>\n",
       "<table border=\"1\" class=\"dataframe\">\n",
       "  <thead>\n",
       "    <tr style=\"text-align: right;\">\n",
       "      <th></th>\n",
       "      <th>sepal_l</th>\n",
       "      <th>sepal_w</th>\n",
       "      <th>petal_l</th>\n",
       "      <th>petal_w</th>\n",
       "      <th>species</th>\n",
       "    </tr>\n",
       "  </thead>\n",
       "  <tbody>\n",
       "    <tr>\n",
       "      <th>0</th>\n",
       "      <td>5.1</td>\n",
       "      <td>3.5</td>\n",
       "      <td>1.4</td>\n",
       "      <td>0.2</td>\n",
       "      <td>Iris-setosa</td>\n",
       "    </tr>\n",
       "    <tr>\n",
       "      <th>1</th>\n",
       "      <td>4.9</td>\n",
       "      <td>3.0</td>\n",
       "      <td>1.4</td>\n",
       "      <td>0.2</td>\n",
       "      <td>Iris-setosa</td>\n",
       "    </tr>\n",
       "    <tr>\n",
       "      <th>2</th>\n",
       "      <td>4.7</td>\n",
       "      <td>3.2</td>\n",
       "      <td>1.3</td>\n",
       "      <td>0.2</td>\n",
       "      <td>Iris-setosa</td>\n",
       "    </tr>\n",
       "    <tr>\n",
       "      <th>3</th>\n",
       "      <td>4.6</td>\n",
       "      <td>3.1</td>\n",
       "      <td>1.5</td>\n",
       "      <td>0.2</td>\n",
       "      <td>Iris-setosa</td>\n",
       "    </tr>\n",
       "    <tr>\n",
       "      <th>4</th>\n",
       "      <td>5.0</td>\n",
       "      <td>3.6</td>\n",
       "      <td>1.4</td>\n",
       "      <td>0.2</td>\n",
       "      <td>Iris-setosa</td>\n",
       "    </tr>\n",
       "  </tbody>\n",
       "</table>\n",
       "</div>"
      ],
      "text/plain": [
       "   sepal_l  sepal_w  petal_l  petal_w      species\n",
       "0      5.1      3.5      1.4      0.2  Iris-setosa\n",
       "1      4.9      3.0      1.4      0.2  Iris-setosa\n",
       "2      4.7      3.2      1.3      0.2  Iris-setosa\n",
       "3      4.6      3.1      1.5      0.2  Iris-setosa\n",
       "4      5.0      3.6      1.4      0.2  Iris-setosa"
      ]
     },
     "execution_count": 2,
     "metadata": {},
     "output_type": "execute_result"
    }
   ],
   "source": [
    "df_iris = pd.read_csv('https://data.heatonresearch.com/data/t81-558/iris.csv', \n",
    "                na_values =[ 'NA', '?'])\n",
    "df_iris.head()"
   ]
  },
  {
   "cell_type": "code",
   "execution_count": 4,
   "id": "center-cutting",
   "metadata": {},
   "outputs": [
    {
     "data": {
      "text/plain": [
       "Index(['Iris-setosa', 'Iris-versicolor', 'Iris-virginica'], dtype='object')"
      ]
     },
     "execution_count": 4,
     "metadata": {},
     "output_type": "execute_result"
    }
   ],
   "source": [
    "X = df_iris.iloc[:, 0:4].values\n",
    "y = pd.get_dummies(df_iris['species']).values\n",
    "cesitler = pd.get_dummies(df_iris['species']).columns\n",
    "cesitler"
   ]
  },
  {
   "cell_type": "code",
   "execution_count": 5,
   "id": "strong-headline",
   "metadata": {},
   "outputs": [],
   "source": [
    "X_train, X_test, y_train, y_test = train_test_split(X, y, test_size=0.2, random_state=15)"
   ]
  },
  {
   "cell_type": "code",
   "execution_count": 6,
   "id": "standard-alloy",
   "metadata": {},
   "outputs": [],
   "source": [
    "model_iris = Sequential()\n",
    "model_iris.add(Dense(50, input_dim=X.shape[1], activation='relu'))\n",
    "model_iris.add(Dense(25, activation='relu'))\n",
    "model_iris.add(Dense(y.shape[1], activation='softmax'))"
   ]
  },
  {
   "cell_type": "code",
   "execution_count": 7,
   "id": "increased-retention",
   "metadata": {},
   "outputs": [],
   "source": [
    "model_iris.compile(loss='categorical_crossentropy', optimizer='adam')"
   ]
  },
  {
   "cell_type": "code",
   "execution_count": 8,
   "id": "forced-career",
   "metadata": {},
   "outputs": [],
   "source": [
    "monitoring = EarlyStopping(monitor='val_loss', min_delta=1e-3, patience=5, verbose=1,\n",
    "                          mode='auto', restore_best_weights=True)"
   ]
  },
  {
   "cell_type": "code",
   "execution_count": 9,
   "id": "amazing-spray",
   "metadata": {},
   "outputs": [
    {
     "name": "stdout",
     "output_type": "stream",
     "text": [
      "Epoch 1/1000\n",
      "4/4 - 0s - loss: 1.1119 - val_loss: 0.9636\n",
      "Epoch 2/1000\n",
      "4/4 - 0s - loss: 0.9656 - val_loss: 0.8987\n",
      "Epoch 3/1000\n",
      "4/4 - 0s - loss: 0.8927 - val_loss: 0.8715\n",
      "Epoch 4/1000\n",
      "4/4 - 0s - loss: 0.8470 - val_loss: 0.8562\n",
      "Epoch 5/1000\n",
      "4/4 - 0s - loss: 0.8043 - val_loss: 0.8259\n",
      "Epoch 6/1000\n",
      "4/4 - 0s - loss: 0.7602 - val_loss: 0.7809\n",
      "Epoch 7/1000\n",
      "4/4 - 0s - loss: 0.7128 - val_loss: 0.7415\n",
      "Epoch 8/1000\n",
      "4/4 - 0s - loss: 0.6751 - val_loss: 0.7057\n",
      "Epoch 9/1000\n",
      "4/4 - 0s - loss: 0.6424 - val_loss: 0.6762\n",
      "Epoch 10/1000\n",
      "4/4 - 0s - loss: 0.6123 - val_loss: 0.6507\n",
      "Epoch 11/1000\n",
      "4/4 - 0s - loss: 0.5833 - val_loss: 0.6251\n",
      "Epoch 12/1000\n",
      "4/4 - 0s - loss: 0.5569 - val_loss: 0.6078\n",
      "Epoch 13/1000\n",
      "4/4 - 0s - loss: 0.5344 - val_loss: 0.5868\n",
      "Epoch 14/1000\n",
      "4/4 - 0s - loss: 0.5130 - val_loss: 0.5644\n",
      "Epoch 15/1000\n",
      "4/4 - 0s - loss: 0.4926 - val_loss: 0.5429\n",
      "Epoch 16/1000\n",
      "4/4 - 0s - loss: 0.4744 - val_loss: 0.5240\n",
      "Epoch 17/1000\n",
      "4/4 - 0s - loss: 0.4575 - val_loss: 0.5022\n",
      "Epoch 18/1000\n",
      "4/4 - 0s - loss: 0.4415 - val_loss: 0.4843\n",
      "Epoch 19/1000\n",
      "4/4 - 0s - loss: 0.4265 - val_loss: 0.4684\n",
      "Epoch 20/1000\n",
      "4/4 - 0s - loss: 0.4128 - val_loss: 0.4532\n",
      "Epoch 21/1000\n",
      "4/4 - 0s - loss: 0.3978 - val_loss: 0.4401\n",
      "Epoch 22/1000\n",
      "4/4 - 0s - loss: 0.3863 - val_loss: 0.4285\n",
      "Epoch 23/1000\n",
      "4/4 - 0s - loss: 0.3749 - val_loss: 0.4099\n",
      "Epoch 24/1000\n",
      "4/4 - 0s - loss: 0.3644 - val_loss: 0.3973\n",
      "Epoch 25/1000\n",
      "4/4 - 0s - loss: 0.3532 - val_loss: 0.3900\n",
      "Epoch 26/1000\n",
      "4/4 - 0s - loss: 0.3426 - val_loss: 0.3775\n",
      "Epoch 27/1000\n",
      "4/4 - 0s - loss: 0.3355 - val_loss: 0.3604\n",
      "Epoch 28/1000\n",
      "4/4 - 0s - loss: 0.3216 - val_loss: 0.3547\n",
      "Epoch 29/1000\n",
      "4/4 - 0s - loss: 0.3138 - val_loss: 0.3470\n",
      "Epoch 30/1000\n",
      "4/4 - 0s - loss: 0.3072 - val_loss: 0.3307\n",
      "Epoch 31/1000\n",
      "4/4 - 0s - loss: 0.2973 - val_loss: 0.3205\n",
      "Epoch 32/1000\n",
      "4/4 - 0s - loss: 0.2898 - val_loss: 0.3102\n",
      "Epoch 33/1000\n",
      "4/4 - 0s - loss: 0.2817 - val_loss: 0.3052\n",
      "Epoch 34/1000\n",
      "4/4 - 0s - loss: 0.2751 - val_loss: 0.2978\n",
      "Epoch 35/1000\n",
      "4/4 - 0s - loss: 0.2677 - val_loss: 0.2862\n",
      "Epoch 36/1000\n",
      "4/4 - 0s - loss: 0.2611 - val_loss: 0.2768\n",
      "Epoch 37/1000\n",
      "4/4 - 0s - loss: 0.2559 - val_loss: 0.2682\n",
      "Epoch 38/1000\n",
      "4/4 - 0s - loss: 0.2502 - val_loss: 0.2653\n",
      "Epoch 39/1000\n",
      "4/4 - 0s - loss: 0.2424 - val_loss: 0.2555\n",
      "Epoch 40/1000\n",
      "4/4 - 0s - loss: 0.2389 - val_loss: 0.2448\n",
      "Epoch 41/1000\n",
      "4/4 - 0s - loss: 0.2328 - val_loss: 0.2421\n",
      "Epoch 42/1000\n",
      "4/4 - 0s - loss: 0.2251 - val_loss: 0.2333\n",
      "Epoch 43/1000\n",
      "4/4 - 0s - loss: 0.2202 - val_loss: 0.2238\n",
      "Epoch 44/1000\n",
      "4/4 - 0s - loss: 0.2165 - val_loss: 0.2208\n",
      "Epoch 45/1000\n",
      "4/4 - 0s - loss: 0.2113 - val_loss: 0.2118\n",
      "Epoch 46/1000\n",
      "4/4 - 0s - loss: 0.2051 - val_loss: 0.2087\n",
      "Epoch 47/1000\n",
      "4/4 - 0s - loss: 0.2000 - val_loss: 0.2043\n",
      "Epoch 48/1000\n",
      "4/4 - 0s - loss: 0.1962 - val_loss: 0.1975\n",
      "Epoch 49/1000\n",
      "4/4 - 0s - loss: 0.1918 - val_loss: 0.1922\n",
      "Epoch 50/1000\n",
      "4/4 - 0s - loss: 0.1880 - val_loss: 0.1878\n",
      "Epoch 51/1000\n",
      "4/4 - 0s - loss: 0.1832 - val_loss: 0.1853\n",
      "Epoch 52/1000\n",
      "4/4 - 0s - loss: 0.1832 - val_loss: 0.1814\n",
      "Epoch 53/1000\n",
      "4/4 - 0s - loss: 0.1785 - val_loss: 0.1734\n",
      "Epoch 54/1000\n",
      "4/4 - 0s - loss: 0.1737 - val_loss: 0.1698\n",
      "Epoch 55/1000\n",
      "4/4 - 0s - loss: 0.1696 - val_loss: 0.1662\n",
      "Epoch 56/1000\n",
      "4/4 - 0s - loss: 0.1667 - val_loss: 0.1617\n",
      "Epoch 57/1000\n",
      "4/4 - 0s - loss: 0.1633 - val_loss: 0.1578\n",
      "Epoch 58/1000\n",
      "4/4 - 0s - loss: 0.1626 - val_loss: 0.1547\n",
      "Epoch 59/1000\n",
      "4/4 - 0s - loss: 0.1579 - val_loss: 0.1508\n",
      "Epoch 60/1000\n",
      "4/4 - 0s - loss: 0.1554 - val_loss: 0.1476\n",
      "Epoch 61/1000\n",
      "4/4 - 0s - loss: 0.1520 - val_loss: 0.1455\n",
      "Epoch 62/1000\n",
      "4/4 - 0s - loss: 0.1541 - val_loss: 0.1426\n",
      "Epoch 63/1000\n",
      "4/4 - 0s - loss: 0.1487 - val_loss: 0.1393\n",
      "Epoch 64/1000\n",
      "4/4 - 0s - loss: 0.1463 - val_loss: 0.1357\n",
      "Epoch 65/1000\n",
      "4/4 - 0s - loss: 0.1432 - val_loss: 0.1339\n",
      "Epoch 66/1000\n",
      "4/4 - 0s - loss: 0.1423 - val_loss: 0.1308\n",
      "Epoch 67/1000\n",
      "4/4 - 0s - loss: 0.1404 - val_loss: 0.1279\n",
      "Epoch 68/1000\n",
      "4/4 - 0s - loss: 0.1379 - val_loss: 0.1261\n",
      "Epoch 69/1000\n",
      "4/4 - 0s - loss: 0.1349 - val_loss: 0.1233\n",
      "Epoch 70/1000\n",
      "4/4 - 0s - loss: 0.1329 - val_loss: 0.1214\n",
      "Epoch 71/1000\n",
      "4/4 - 0s - loss: 0.1315 - val_loss: 0.1193\n",
      "Epoch 72/1000\n",
      "4/4 - 0s - loss: 0.1321 - val_loss: 0.1171\n",
      "Epoch 73/1000\n",
      "4/4 - 0s - loss: 0.1280 - val_loss: 0.1148\n",
      "Epoch 74/1000\n",
      "4/4 - 0s - loss: 0.1286 - val_loss: 0.1145\n",
      "Epoch 75/1000\n",
      "4/4 - 0s - loss: 0.1252 - val_loss: 0.1110\n",
      "Epoch 76/1000\n",
      "4/4 - 0s - loss: 0.1235 - val_loss: 0.1091\n",
      "Epoch 77/1000\n",
      "4/4 - 0s - loss: 0.1273 - val_loss: 0.1076\n",
      "Epoch 78/1000\n",
      "4/4 - 0s - loss: 0.1183 - val_loss: 0.1095\n",
      "Epoch 79/1000\n",
      "4/4 - 0s - loss: 0.1254 - val_loss: 0.1092\n",
      "Epoch 80/1000\n",
      "4/4 - 0s - loss: 0.1191 - val_loss: 0.1023\n",
      "Epoch 81/1000\n",
      "4/4 - 0s - loss: 0.1190 - val_loss: 0.1020\n",
      "Epoch 82/1000\n",
      "4/4 - 0s - loss: 0.1185 - val_loss: 0.1006\n",
      "Epoch 83/1000\n",
      "4/4 - 0s - loss: 0.1171 - val_loss: 0.1000\n",
      "Epoch 84/1000\n",
      "4/4 - 0s - loss: 0.1140 - val_loss: 0.0969\n",
      "Epoch 85/1000\n",
      "4/4 - 0s - loss: 0.1146 - val_loss: 0.0949\n",
      "Epoch 86/1000\n",
      "4/4 - 0s - loss: 0.1110 - val_loss: 0.0944\n",
      "Epoch 87/1000\n",
      "4/4 - 0s - loss: 0.1096 - val_loss: 0.0934\n",
      "Epoch 88/1000\n",
      "4/4 - 0s - loss: 0.1125 - val_loss: 0.0913\n",
      "Epoch 89/1000\n",
      "4/4 - 0s - loss: 0.1076 - val_loss: 0.0925\n",
      "Epoch 90/1000\n",
      "4/4 - 0s - loss: 0.1089 - val_loss: 0.0915\n",
      "Epoch 91/1000\n",
      "4/4 - 0s - loss: 0.1089 - val_loss: 0.0874\n",
      "Epoch 92/1000\n",
      "4/4 - 0s - loss: 0.1064 - val_loss: 0.0864\n",
      "Epoch 93/1000\n",
      "4/4 - 0s - loss: 0.1068 - val_loss: 0.0872\n",
      "Epoch 94/1000\n",
      "4/4 - 0s - loss: 0.1039 - val_loss: 0.0841\n",
      "Epoch 95/1000\n",
      "4/4 - 0s - loss: 0.1037 - val_loss: 0.0839\n",
      "Epoch 96/1000\n",
      "4/4 - 0s - loss: 0.1018 - val_loss: 0.0827\n",
      "Epoch 97/1000\n",
      "4/4 - 0s - loss: 0.1030 - val_loss: 0.0810\n",
      "Epoch 98/1000\n",
      "4/4 - 0s - loss: 0.1011 - val_loss: 0.0823\n",
      "Epoch 99/1000\n",
      "4/4 - 0s - loss: 0.1002 - val_loss: 0.0826\n",
      "Epoch 100/1000\n",
      "4/4 - 0s - loss: 0.0991 - val_loss: 0.0785\n",
      "Epoch 101/1000\n",
      "4/4 - 0s - loss: 0.1017 - val_loss: 0.0770\n",
      "Epoch 102/1000\n",
      "4/4 - 0s - loss: 0.0972 - val_loss: 0.0795\n",
      "Epoch 103/1000\n",
      "4/4 - 0s - loss: 0.0982 - val_loss: 0.0810\n",
      "Epoch 104/1000\n",
      "4/4 - 0s - loss: 0.0974 - val_loss: 0.0748\n",
      "Epoch 105/1000\n",
      "4/4 - 0s - loss: 0.0959 - val_loss: 0.0740\n",
      "Epoch 106/1000\n",
      "4/4 - 0s - loss: 0.0965 - val_loss: 0.0732\n",
      "Epoch 107/1000\n",
      "4/4 - 0s - loss: 0.0939 - val_loss: 0.0785\n",
      "Epoch 108/1000\n",
      "4/4 - 0s - loss: 0.0979 - val_loss: 0.0779\n",
      "Epoch 109/1000\n",
      "4/4 - 0s - loss: 0.0933 - val_loss: 0.0703\n",
      "Epoch 110/1000\n",
      "4/4 - 0s - loss: 0.0961 - val_loss: 0.0695\n",
      "Epoch 111/1000\n",
      "4/4 - 0s - loss: 0.0919 - val_loss: 0.0725\n",
      "Epoch 112/1000\n",
      "4/4 - 0s - loss: 0.0916 - val_loss: 0.0769\n",
      "Epoch 113/1000\n",
      "4/4 - 0s - loss: 0.0936 - val_loss: 0.0725\n",
      "Epoch 114/1000\n",
      "4/4 - 0s - loss: 0.0925 - val_loss: 0.0666\n",
      "Epoch 115/1000\n",
      "4/4 - 0s - loss: 0.0930 - val_loss: 0.0677\n",
      "Epoch 116/1000\n",
      "4/4 - 0s - loss: 0.0906 - val_loss: 0.0701\n",
      "Epoch 117/1000\n",
      "4/4 - 0s - loss: 0.0902 - val_loss: 0.0680\n",
      "Epoch 118/1000\n",
      "4/4 - 0s - loss: 0.0888 - val_loss: 0.0647\n",
      "Epoch 119/1000\n",
      "4/4 - 0s - loss: 0.0890 - val_loss: 0.0653\n",
      "Epoch 120/1000\n",
      "4/4 - 0s - loss: 0.0875 - val_loss: 0.0659\n",
      "Epoch 121/1000\n",
      "4/4 - 0s - loss: 0.0906 - val_loss: 0.0679\n",
      "Epoch 122/1000\n",
      "4/4 - 0s - loss: 0.0860 - val_loss: 0.0625\n",
      "Epoch 123/1000\n",
      "4/4 - 0s - loss: 0.0882 - val_loss: 0.0620\n",
      "Epoch 124/1000\n",
      "4/4 - 0s - loss: 0.0861 - val_loss: 0.0653\n",
      "Epoch 125/1000\n",
      "4/4 - 0s - loss: 0.0862 - val_loss: 0.0645\n",
      "Epoch 126/1000\n",
      "4/4 - 0s - loss: 0.0860 - val_loss: 0.0675\n",
      "Epoch 127/1000\n",
      "4/4 - 0s - loss: 0.0938 - val_loss: 0.0598\n",
      "Epoch 128/1000\n",
      "4/4 - 0s - loss: 0.0867 - val_loss: 0.0621\n",
      "Epoch 129/1000\n",
      "4/4 - 0s - loss: 0.0905 - val_loss: 0.0787\n",
      "Epoch 130/1000\n",
      "4/4 - 0s - loss: 0.0902 - val_loss: 0.0647\n",
      "Epoch 131/1000\n",
      "4/4 - 0s - loss: 0.0799 - val_loss: 0.0566\n",
      "Epoch 132/1000\n",
      "4/4 - 0s - loss: 0.0880 - val_loss: 0.0563\n",
      "Epoch 133/1000\n",
      "4/4 - 0s - loss: 0.0873 - val_loss: 0.0622\n",
      "Epoch 134/1000\n",
      "4/4 - 0s - loss: 0.0839 - val_loss: 0.0602\n",
      "Epoch 135/1000\n",
      "4/4 - 0s - loss: 0.0836 - val_loss: 0.0624\n",
      "Epoch 136/1000\n",
      "Restoring model weights from the end of the best epoch.\n",
      "4/4 - 0s - loss: 0.0822 - val_loss: 0.0613\n",
      "Epoch 00136: early stopping\n"
     ]
    },
    {
     "data": {
      "text/plain": [
       "<tensorflow.python.keras.callbacks.History at 0x7fd46438e2b0>"
      ]
     },
     "execution_count": 9,
     "metadata": {},
     "output_type": "execute_result"
    }
   ],
   "source": [
    "model_iris.fit(X_train, y_train, validation_data=(X_test, y_test), callbacks=[monitoring], verbose=2, \n",
    "               epochs=1000)"
   ]
  },
  {
   "cell_type": "markdown",
   "id": "ordered-sender",
   "metadata": {},
   "source": [
    "<b>monitor :</b> İzlenecek nicelik\n",
    "\n",
    "<b> min_delta : </b> Bu değer küçük tutulmalıdır. İyileştirme olarak nitelendirilmesi için izlenen miktardaki minimum değişiklik, yani min_delta'dan daha düşük bir mutlak değişiklik, iyileşme yok sayılacaktır.</br>\n",
    "\n",
    "<b> patience :</b> İyileştirme olmayan kaç epoch sonunda eğitim durudurulacak. </br>\n",
    "\n",
    "<b> mode :</b> \"auto\", \"min\", \"max\" değerlerinden birini alabilir. \"min\" modunda, izlenen miktar azalmayı bıraktığında eğitim duracaktır; \"max\" modunda, izlenen miktar artmayı durdurduğunda duracaktır; \"otomatik\" modda, yön, izlenen miktarın adından otomatik olarak çıkarılır. </br>\n",
    "\n",
    "<b>restore_best_weights : </b> Her zaman True olarak belirlenmelidir. İzlenen miktarın en iyi değeriyle ilgili epoch'tan geri yüklenip geri yüklenmeyeceğini belirlemeyi sağlar. False ise eğitimin son aşamasında elde edilen model ağırlıkları kullanılır."
   ]
  },
  {
   "cell_type": "code",
   "execution_count": 10,
   "id": "valuable-calendar",
   "metadata": {},
   "outputs": [],
   "source": [
    "from sklearn.metrics import accuracy_score\n",
    "import numpy as np"
   ]
  },
  {
   "cell_type": "code",
   "execution_count": 14,
   "id": "severe-modification",
   "metadata": {},
   "outputs": [
    {
     "data": {
      "text/plain": [
       "1.0"
      ]
     },
     "execution_count": 14,
     "metadata": {},
     "output_type": "execute_result"
    }
   ],
   "source": [
    "prediction = model_iris.predict(X_test)\n",
    "prediction_classes = np.argmax(prediction, axis=1)\n",
    "real_classes = np.argmax(y_test, axis=1)\n",
    "correction_rate = accuracy_score(real_classes, prediction_classes)\n",
    "correction_rate"
   ]
  },
  {
   "cell_type": "markdown",
   "id": "tender-situation",
   "metadata": {},
   "source": [
    "# Network'ten Ağırlıkları Çıkarma ve Manuel Sonuç Hesaplama"
   ]
  },
  {
   "cell_type": "code",
   "execution_count": 18,
   "id": "prepared-christianity",
   "metadata": {},
   "outputs": [],
   "source": [
    "# Weight Initalization"
   ]
  },
  {
   "cell_type": "markdown",
   "id": "silver-poster",
   "metadata": {},
   "source": [
    "Bir sinir ağının ağırlıkları, sinir ağı için çıktıyı belirlemektedir. Eğitim süreci bu ağırlıkların uygun \n",
    "olmasını sağlar. Sinir ağları eğitime ağırlıkları, rastgele bir şekilde belirleyerek başlar. Daha sonra\n",
    "ağırlıklar her epochda update edilir.</b>\n",
    "\n",
    "Bir sinir ağının rastgele olarak belirlenen ağırlıkları, o ağın ne kadar iyi eğitilebileceğini etkiler. Bir sinir ağı iyi eğitilemiyorsa, yeni bir rastgele ağırlık setiyle eğitmek bir çözüm olarak denenebilir. Bununla birlikte, bir sinir ağının mimarisini farklı gizli katman ve nöron kombinasyonları ile denemek çok uzun zaman alır ve yorucu olur. Yeni bir katman eklenmesi ve ağın performansın iyileşmesi durumunda, bu iyileşmenin yeni katmandan mı yoksa yeni ağırlık kümesinden mi kaynaklandığı araştırılmalıdır. Bu belirsizlik nedeniyle, ağırlık başlatma algoritmasında iki temel soruya cevap aranır:</br>\n",
    "\n",
    "<li>Algoritma ne kadar tutarlı bir şekilde iyi ağırlıklar sağlıyor?</li>\n",
    "<li>Algoritmanın sağladığı ağırlıklar ne kadar avantaj sağlıyor?</li>\n",
    "\n",
    "Ağırlık başlatmaya yönelik en yaygın, ancak en az etkili yaklaşımlardan biri, ağırlıkları belirli bir aralıktaki rastgele değerlere ayarlamaktır. Genellikle -1 ile +1 veya -5 ile +5 arasındaki sayılar seçilir. Her seferinde aynı rastgele ağırlık setinin kullanıldığından emin olunmak isteniorsa, seed değeri kullanılmalıdır. </br>\n",
    "\n",
    "Rastgele ağırlık başlatma ile ilgili bir problem, bazı seed değerleri tarafından oluşturulan rastgele ağırlıkların eğitilmesinin diğerlerinden çok daha zor olmasıdır. Bazı durumlarda, ağırlıklar o kadar kötü olabilir ki eğitim imkansızdır. Belirli bir ağırlık setiyle bir sinir ağının eğitilemeyeceği fark edilirse, farklı bir seed değeri kullanılarak yeni bir ağırlık seti oluşturulmalıdır.</br>\n",
    "\n",
    "Weight Initialization problemi için çeşitli araştırmalar yapılmaktadır. Bu araştırmalardan biri (Glorot, X., and Bengio, Y. Understanding the difficulty of training deep feedforward neural net-\n",
    "works. In Proceedings of the thirteenth international conference on artificial intelligence and statistics\n",
    "(2010), pp. 249–256.) çalışmada tanıtılan Xavier weight initialization algoritmasıdır. Bu algoritma, kabul edilebilir tutarlılıkta iyi ağırlıklar üretmektedir ve normal olarak dağıtılmış rasgele sayılar kullanır.</br>\n",
    "\n",
    "Xavier weight initialization algoritmasını kullanırken, normal olarak dağılan rasgele sayıların, çoğu programlama dilinin ürettiği 0 ile 1 arasındaki tipik rasgele sayılar olmadığını bilmek gerekmektedir.Normal dağılımda üretilen sayılar ortalamanın minimum -3 standart sapma altında veya maksimum +3 standart sapma üstünde olabilir. </br>\n",
    "\n",
    "\n",
    "<img src='normaldist.png'/>\n",
    "<center><b>Kaynak : https://aakinshin.net/posts/normality/</b></center>\n",
    "\n"
   ]
  },
  {
   "cell_type": "markdown",
   "id": "embedded-findings",
   "metadata": {},
   "source": [
    " Xavier weight initialization tüm ağırlıkları normal olarak dağıtılmış rastgele sayılara ayarlar. Bu ağırlıklar ortalaması her zaman 0'dır. Ancak standart sapma, mevcut ağırlık katmanı için kaç bağlantı bulunduğuna bağlı olarak değişir. Aşağıdaki denklemle hesaplanabilir.\n",
    " \n",
    " <img src='variance.png'/>\n",
    " \n",
    "Yukarıdaki denklem, tüm ağırlıklar için varyansın nasıl elde edileceğini gösterir. Varyansın karekökü standart sapmadır.Bu işlem sinir ağındaki her katman için tamamlanır."
   ]
  },
  {
   "cell_type": "markdown",
   "id": "desirable-england",
   "metadata": {},
   "source": [
    "<img src='examplevar.png'/>\n",
    "<center><b>Kaynak : Jeff Heaton, Applications of Deep Neural Networks</b></center>"
   ]
  },
  {
   "cell_type": "markdown",
   "id": "executive-appreciation",
   "metadata": {},
   "source": [
    "# XOR Probleminin NN ile Çözümü"
   ]
  },
  {
   "cell_type": "code",
   "execution_count": 15,
   "id": "atomic-people",
   "metadata": {},
   "outputs": [],
   "source": [
    "from tensorflow.keras.models import Sequential\n",
    "from tensorflow.keras.layers import Dense\n",
    "import numpy as np"
   ]
  },
  {
   "cell_type": "code",
   "execution_count": 16,
   "id": "experienced-tournament",
   "metadata": {},
   "outputs": [],
   "source": [
    "X = np.array([[0, 0], [1, 0], [0, 1], [1, 1]])"
   ]
  },
  {
   "cell_type": "code",
   "execution_count": 17,
   "id": "hispanic-nylon",
   "metadata": {},
   "outputs": [],
   "source": [
    "y = np.array([0, 1, 1, 0])"
   ]
  },
  {
   "cell_type": "code",
   "execution_count": 1,
   "id": "acquired-decline",
   "metadata": {},
   "outputs": [
    {
     "name": "stdout",
     "output_type": "stream",
     "text": [
      "1. iteration\n"
     ]
    },
    {
     "ename": "NameError",
     "evalue": "name 'Sequential' is not defined",
     "output_type": "error",
     "traceback": [
      "\u001b[0;31m---------------------------------------------------------------------------\u001b[0m",
      "\u001b[0;31mNameError\u001b[0m                                 Traceback (most recent call last)",
      "\u001b[0;32m<ipython-input-1-8b3a1677a098>\u001b[0m in \u001b[0;36m<module>\u001b[0;34m\u001b[0m\n\u001b[1;32m      5\u001b[0m     \u001b[0mprint\u001b[0m\u001b[0;34m(\u001b[0m\u001b[0;34mf\"{epochs}. iteration\"\u001b[0m\u001b[0;34m)\u001b[0m\u001b[0;34m\u001b[0m\u001b[0;34m\u001b[0m\u001b[0m\n\u001b[1;32m      6\u001b[0m     \u001b[0mepochs\u001b[0m \u001b[0;34m+=\u001b[0m \u001b[0;36m1\u001b[0m\u001b[0;34m\u001b[0m\u001b[0;34m\u001b[0m\u001b[0m\n\u001b[0;32m----> 7\u001b[0;31m     \u001b[0mmodel_xor\u001b[0m \u001b[0;34m=\u001b[0m \u001b[0mSequential\u001b[0m\u001b[0;34m(\u001b[0m\u001b[0;34m)\u001b[0m\u001b[0;34m\u001b[0m\u001b[0;34m\u001b[0m\u001b[0m\n\u001b[0m\u001b[1;32m      8\u001b[0m     \u001b[0mmodel_xor\u001b[0m\u001b[0;34m.\u001b[0m\u001b[0madd\u001b[0m\u001b[0;34m(\u001b[0m\u001b[0mDense\u001b[0m\u001b[0;34m(\u001b[0m\u001b[0;36m2\u001b[0m\u001b[0;34m,\u001b[0m \u001b[0minput_dim\u001b[0m\u001b[0;34m=\u001b[0m\u001b[0;36m2\u001b[0m\u001b[0;34m,\u001b[0m \u001b[0mactivation\u001b[0m\u001b[0;34m=\u001b[0m\u001b[0;34m'relu'\u001b[0m\u001b[0;34m)\u001b[0m\u001b[0;34m)\u001b[0m\u001b[0;34m\u001b[0m\u001b[0;34m\u001b[0m\u001b[0m\n\u001b[1;32m      9\u001b[0m     \u001b[0mmodel_xor\u001b[0m\u001b[0;34m.\u001b[0m\u001b[0madd\u001b[0m\u001b[0;34m(\u001b[0m\u001b[0mDense\u001b[0m\u001b[0;34m(\u001b[0m\u001b[0;36m1\u001b[0m\u001b[0;34m,\u001b[0m \u001b[0mactivation\u001b[0m\u001b[0;34m=\u001b[0m\u001b[0;34m'linear'\u001b[0m\u001b[0;34m)\u001b[0m\u001b[0;34m)\u001b[0m\u001b[0;34m\u001b[0m\u001b[0;34m\u001b[0m\u001b[0m\n",
      "\u001b[0;31mNameError\u001b[0m: name 'Sequential' is not defined"
     ]
    }
   ],
   "source": [
    "done = False\n",
    "epochs = 1\n",
    "\n",
    "while not done:\n",
    "    print(f\"{epochs}. iteration\")\n",
    "    epochs += 1\n",
    "    model_xor = Sequential()\n",
    "    model_xor.add(Dense(2, input_dim=2, activation='relu'))\n",
    "    model_xor.add(Dense(1, activation='linear'))\n",
    "    model_xor.compile(loss='mean_squared_error', optimizer='adam')\n",
    "    model_xor.fit(X, y, verbose=0, epochs=10000)\n",
    "    \n",
    "    predict = model_xor.predict(X)\n",
    "    done = predict[0] < 0.01 and predict[3] < 0.01 and predict[1] > 0.9 and predict[2] > 0.9\n",
    "    print(predict)"
   ]
  },
  {
   "cell_type": "code",
   "execution_count": 8,
   "id": "proprietary-mediterranean",
   "metadata": {},
   "outputs": [
    {
     "name": "stdout",
     "output_type": "stream",
     "text": [
      "0B ->\t L1N0:-9.16545204177055e-08\n",
      "0B ->\t L1N1:-1.6095487609391057e-08\n",
      "L0N0\t -> L1N0 = -0.8739746809005737\n",
      "L0N0\t -> L1N1 = 1.2201192378997803\n",
      "L0N1\t -> L1N0 = 0.8739748001098633\n",
      "L0N1\t -> L1N1 = -1.2201192378997803\n",
      "1B ->\t L2N0:-8.811766871730242e-10\n",
      "L1N0\t -> L2N0 = 1.1441978216171265\n",
      "L1N1\t -> L2N0 = 0.8195920586585999\n"
     ]
    }
   ],
   "source": [
    "# ağılıklar alınıyor\n",
    "for layer_number, layer in enumerate(model_xor.layers):\n",
    "    weights = layer.get_weights()[0]\n",
    "    biases = layer.get_weights()[1]\n",
    "    \n",
    "    for to_neuron_number, bias in enumerate(biases):\n",
    "        print(f'{layer_number}B ->\\t L{layer_number + 1}N{to_neuron_number}:{bias}')\n",
    "    \n",
    "    for from_neuron_number, weight in enumerate(weights):\n",
    "        for to_neuron_number, weight2 in enumerate(weight):\n",
    "            print(f'L{layer_number}N{from_neuron_number}\\t -> L{layer_number + 1}N{to_neuron_number} = {weight2}')"
   ]
  },
  {
   "cell_type": "markdown",
   "id": "rational-editing",
   "metadata": {},
   "source": [
    "Model her çalıştırıldığında farklı ağırlıklar elde edilir. Yani XOR problemini çözmenin farklı yolları vardır.   \n",
    "<b>Aşağıda bu ağırlıklar kullanılarak elle nasıl hesaplama yapıalbileceği gösterilmiştir</b>"
   ]
  },
  {
   "cell_type": "code",
   "execution_count": 20,
   "id": "printable-salon",
   "metadata": {},
   "outputs": [
    {
     "name": "stdout",
     "output_type": "stream",
     "text": [
      "0.8699999084\n",
      "-1.220000016\n",
      "0.8699999084\n",
      "0\n",
      "0.9917998946949999\n",
      "0.9917998946949999\n"
     ]
    }
   ],
   "source": [
    "input0 = 0\n",
    "input1 = 1\n",
    "\n",
    "hidden0sum = (input0 * -0.87) + (input1 * 0.87) + (-9.16e-8)\n",
    "hidden1sum = (input0 * 1.22) + (input1 * -1.22) + (-1.60e-8)\n",
    "print(hidden0sum)\n",
    "print(hidden1sum)\n",
    "\n",
    "hidden0 = max(0, hidden0sum)\n",
    "hidden1 = max(0, hidden1sum)\n",
    "print(hidden0)\n",
    "print(hidden1)\n",
    "\n",
    "outputsum = (hidden0 * 1.14) + (hidden1 * 0.81) + (-8.81e-10)\n",
    "print(outputsum)\n",
    "\n",
    "output = outputsum\n",
    "\n",
    "print(output)"
   ]
  },
  {
   "cell_type": "markdown",
   "id": "secret-justice",
   "metadata": {},
   "source": [
    "# Özellik Vektörlerinin (Feature Vector) Encode Edilmesi"
   ]
  },
  {
   "cell_type": "markdown",
   "id": "reserved-timer",
   "metadata": {},
   "source": [
    "Bu bölümde excel'den de aşina olunan tablo verileri ile işlemler yapmaya çalışılacaktır. Yapay sinir ağları sayısal veri kullanırlar. Bu sayısal from feature vector olarak adlandırılır. Her satır bir vektör haline gelir. Giriş nöronlarının her biri, bu vektörden bir feature yani sütun alır."
   ]
  },
  {
   "cell_type": "code",
   "execution_count": 21,
   "id": "enormous-paste",
   "metadata": {},
   "outputs": [],
   "source": [
    "import pandas as pd"
   ]
  },
  {
   "cell_type": "code",
   "execution_count": 22,
   "id": "choice-belief",
   "metadata": {},
   "outputs": [],
   "source": [
    "pd.set_option('display.max_columns', 7)\n",
    "pd.set_option('display.max_rows', 5)"
   ]
  },
  {
   "cell_type": "code",
   "execution_count": 23,
   "id": "critical-container",
   "metadata": {},
   "outputs": [
    {
     "data": {
      "text/html": [
       "<div>\n",
       "<style scoped>\n",
       "    .dataframe tbody tr th:only-of-type {\n",
       "        vertical-align: middle;\n",
       "    }\n",
       "\n",
       "    .dataframe tbody tr th {\n",
       "        vertical-align: top;\n",
       "    }\n",
       "\n",
       "    .dataframe thead th {\n",
       "        text-align: right;\n",
       "    }\n",
       "</style>\n",
       "<table border=\"1\" class=\"dataframe\">\n",
       "  <thead>\n",
       "    <tr style=\"text-align: right;\">\n",
       "      <th></th>\n",
       "      <th>id</th>\n",
       "      <th>job</th>\n",
       "      <th>area</th>\n",
       "      <th>...</th>\n",
       "      <th>retail_dense</th>\n",
       "      <th>crime</th>\n",
       "      <th>product</th>\n",
       "    </tr>\n",
       "  </thead>\n",
       "  <tbody>\n",
       "    <tr>\n",
       "      <th>0</th>\n",
       "      <td>1</td>\n",
       "      <td>vv</td>\n",
       "      <td>c</td>\n",
       "      <td>...</td>\n",
       "      <td>0.492126</td>\n",
       "      <td>0.071100</td>\n",
       "      <td>b</td>\n",
       "    </tr>\n",
       "    <tr>\n",
       "      <th>1</th>\n",
       "      <td>2</td>\n",
       "      <td>kd</td>\n",
       "      <td>c</td>\n",
       "      <td>...</td>\n",
       "      <td>0.342520</td>\n",
       "      <td>0.400809</td>\n",
       "      <td>c</td>\n",
       "    </tr>\n",
       "    <tr>\n",
       "      <th>...</th>\n",
       "      <td>...</td>\n",
       "      <td>...</td>\n",
       "      <td>...</td>\n",
       "      <td>...</td>\n",
       "      <td>...</td>\n",
       "      <td>...</td>\n",
       "      <td>...</td>\n",
       "    </tr>\n",
       "    <tr>\n",
       "      <th>1998</th>\n",
       "      <td>1999</td>\n",
       "      <td>qp</td>\n",
       "      <td>c</td>\n",
       "      <td>...</td>\n",
       "      <td>0.598425</td>\n",
       "      <td>0.117803</td>\n",
       "      <td>c</td>\n",
       "    </tr>\n",
       "    <tr>\n",
       "      <th>1999</th>\n",
       "      <td>2000</td>\n",
       "      <td>pe</td>\n",
       "      <td>c</td>\n",
       "      <td>...</td>\n",
       "      <td>0.539370</td>\n",
       "      <td>0.451973</td>\n",
       "      <td>c</td>\n",
       "    </tr>\n",
       "  </tbody>\n",
       "</table>\n",
       "<p>2000 rows × 14 columns</p>\n",
       "</div>"
      ],
      "text/plain": [
       "        id job area  ...  retail_dense     crime  product\n",
       "0        1  vv    c  ...      0.492126  0.071100        b\n",
       "1        2  kd    c  ...      0.342520  0.400809        c\n",
       "...    ...  ..  ...  ...           ...       ...      ...\n",
       "1998  1999  qp    c  ...      0.598425  0.117803        c\n",
       "1999  2000  pe    c  ...      0.539370  0.451973        c\n",
       "\n",
       "[2000 rows x 14 columns]"
      ]
     },
     "execution_count": 23,
     "metadata": {},
     "output_type": "execute_result"
    }
   ],
   "source": [
    "df = pd.read_csv('https://data.heatonresearch.com/data/t81-558/jh-simple-dataset.csv', \n",
    "                na_values =[ 'NA', '?'])\n",
    "df"
   ]
  },
  {
   "cell_type": "code",
   "execution_count": 24,
   "id": "cosmetic-terry",
   "metadata": {},
   "outputs": [
    {
     "data": {
      "text/html": [
       "<div>\n",
       "<style scoped>\n",
       "    .dataframe tbody tr th:only-of-type {\n",
       "        vertical-align: middle;\n",
       "    }\n",
       "\n",
       "    .dataframe tbody tr th {\n",
       "        vertical-align: top;\n",
       "    }\n",
       "\n",
       "    .dataframe thead th {\n",
       "        text-align: right;\n",
       "    }\n",
       "</style>\n",
       "<table border=\"1\" class=\"dataframe\">\n",
       "  <thead>\n",
       "    <tr style=\"text-align: right;\">\n",
       "      <th></th>\n",
       "      <th>id</th>\n",
       "      <th>job</th>\n",
       "      <th>area</th>\n",
       "      <th>income</th>\n",
       "      <th>...</th>\n",
       "      <th>pop_dense</th>\n",
       "      <th>retail_dense</th>\n",
       "      <th>crime</th>\n",
       "      <th>product</th>\n",
       "    </tr>\n",
       "  </thead>\n",
       "  <tbody>\n",
       "    <tr>\n",
       "      <th>0</th>\n",
       "      <td>1</td>\n",
       "      <td>vv</td>\n",
       "      <td>c</td>\n",
       "      <td>50876.0</td>\n",
       "      <td>...</td>\n",
       "      <td>0.885827</td>\n",
       "      <td>0.492126</td>\n",
       "      <td>0.071100</td>\n",
       "      <td>b</td>\n",
       "    </tr>\n",
       "    <tr>\n",
       "      <th>1</th>\n",
       "      <td>2</td>\n",
       "      <td>kd</td>\n",
       "      <td>c</td>\n",
       "      <td>60369.0</td>\n",
       "      <td>...</td>\n",
       "      <td>0.874016</td>\n",
       "      <td>0.342520</td>\n",
       "      <td>0.400809</td>\n",
       "      <td>c</td>\n",
       "    </tr>\n",
       "    <tr>\n",
       "      <th>...</th>\n",
       "      <td>...</td>\n",
       "      <td>...</td>\n",
       "      <td>...</td>\n",
       "      <td>...</td>\n",
       "      <td>...</td>\n",
       "      <td>...</td>\n",
       "      <td>...</td>\n",
       "      <td>...</td>\n",
       "      <td>...</td>\n",
       "    </tr>\n",
       "    <tr>\n",
       "      <th>1998</th>\n",
       "      <td>1999</td>\n",
       "      <td>qp</td>\n",
       "      <td>c</td>\n",
       "      <td>67949.0</td>\n",
       "      <td>...</td>\n",
       "      <td>0.909449</td>\n",
       "      <td>0.598425</td>\n",
       "      <td>0.117803</td>\n",
       "      <td>c</td>\n",
       "    </tr>\n",
       "    <tr>\n",
       "      <th>1999</th>\n",
       "      <td>2000</td>\n",
       "      <td>pe</td>\n",
       "      <td>c</td>\n",
       "      <td>61467.0</td>\n",
       "      <td>...</td>\n",
       "      <td>0.925197</td>\n",
       "      <td>0.539370</td>\n",
       "      <td>0.451973</td>\n",
       "      <td>c</td>\n",
       "    </tr>\n",
       "  </tbody>\n",
       "</table>\n",
       "<p>2000 rows × 14 columns</p>\n",
       "</div>"
      ],
      "text/plain": [
       "        id job area   income  ...  pop_dense  retail_dense     crime  product\n",
       "0        1  vv    c  50876.0  ...   0.885827      0.492126  0.071100        b\n",
       "1        2  kd    c  60369.0  ...   0.874016      0.342520  0.400809        c\n",
       "...    ...  ..  ...      ...  ...        ...           ...       ...      ...\n",
       "1998  1999  qp    c  67949.0  ...   0.909449      0.598425  0.117803        c\n",
       "1999  2000  pe    c  61467.0  ...   0.925197      0.539370  0.451973        c\n",
       "\n",
       "[2000 rows x 14 columns]"
      ]
     },
     "execution_count": 24,
     "metadata": {},
     "output_type": "execute_result"
    }
   ],
   "source": [
    "pd.set_option('display.max_columns', 9)\n",
    "pd.set_option('display.max_rows', 5)\n",
    "df"
   ]
  },
  {
   "cell_type": "code",
   "execution_count": 25,
   "id": "ecological-perth",
   "metadata": {},
   "outputs": [
    {
     "data": {
      "text/plain": [
       "Index(['id', 'job', 'area', 'income', 'aspect', 'subscriptions',\n",
       "       'dist_healthy', 'save_rate', 'dist_unhealthy', 'age', 'pop_dense',\n",
       "       'retail_dense', 'crime', 'product'],\n",
       "      dtype='object')"
      ]
     },
     "execution_count": 25,
     "metadata": {},
     "output_type": "execute_result"
    }
   ],
   "source": [
    "df.columns"
   ]
  },
  {
   "cell_type": "code",
   "execution_count": 26,
   "id": "broad-payday",
   "metadata": {},
   "outputs": [
    {
     "name": "stdout",
     "output_type": "stream",
     "text": [
      "<class 'pandas.core.frame.DataFrame'>\n",
      "RangeIndex: 2000 entries, 0 to 1999\n",
      "Data columns (total 14 columns):\n",
      " #   Column          Non-Null Count  Dtype  \n",
      "---  ------          --------------  -----  \n",
      " 0   id              2000 non-null   int64  \n",
      " 1   job             2000 non-null   object \n",
      " 2   area            2000 non-null   object \n",
      " 3   income          1941 non-null   float64\n",
      " 4   aspect          2000 non-null   float64\n",
      " 5   subscriptions   2000 non-null   int64  \n",
      " 6   dist_healthy    2000 non-null   float64\n",
      " 7   save_rate       2000 non-null   int64  \n",
      " 8   dist_unhealthy  2000 non-null   float64\n",
      " 9   age             2000 non-null   int64  \n",
      " 10  pop_dense       2000 non-null   float64\n",
      " 11  retail_dense    2000 non-null   float64\n",
      " 12  crime           2000 non-null   float64\n",
      " 13  product         2000 non-null   object \n",
      "dtypes: float64(7), int64(4), object(3)\n",
      "memory usage: 218.9+ KB\n"
     ]
    }
   ],
   "source": [
    "df.info()"
   ]
  },
  {
   "cell_type": "code",
   "execution_count": 27,
   "id": "recognized-exclusive",
   "metadata": {},
   "outputs": [
    {
     "data": {
      "text/html": [
       "<div>\n",
       "<style scoped>\n",
       "    .dataframe tbody tr th:only-of-type {\n",
       "        vertical-align: middle;\n",
       "    }\n",
       "\n",
       "    .dataframe tbody tr th {\n",
       "        vertical-align: top;\n",
       "    }\n",
       "\n",
       "    .dataframe thead th {\n",
       "        text-align: right;\n",
       "    }\n",
       "</style>\n",
       "<table border=\"1\" class=\"dataframe\">\n",
       "  <thead>\n",
       "    <tr style=\"text-align: right;\">\n",
       "      <th></th>\n",
       "      <th>count</th>\n",
       "      <th>mean</th>\n",
       "      <th>std</th>\n",
       "      <th>min</th>\n",
       "      <th>25%</th>\n",
       "      <th>50%</th>\n",
       "      <th>75%</th>\n",
       "      <th>max</th>\n",
       "    </tr>\n",
       "  </thead>\n",
       "  <tbody>\n",
       "    <tr>\n",
       "      <th>id</th>\n",
       "      <td>2000.0</td>\n",
       "      <td>1000.500000</td>\n",
       "      <td>577.494589</td>\n",
       "      <td>1.0</td>\n",
       "      <td>500.750000</td>\n",
       "      <td>1000.500000</td>\n",
       "      <td>1500.250000</td>\n",
       "      <td>2000.000000</td>\n",
       "    </tr>\n",
       "    <tr>\n",
       "      <th>income</th>\n",
       "      <td>1941.0</td>\n",
       "      <td>56924.861927</td>\n",
       "      <td>10188.938399</td>\n",
       "      <td>19846.0</td>\n",
       "      <td>51336.000000</td>\n",
       "      <td>58633.000000</td>\n",
       "      <td>64407.000000</td>\n",
       "      <td>88671.000000</td>\n",
       "    </tr>\n",
       "    <tr>\n",
       "      <th>...</th>\n",
       "      <td>...</td>\n",
       "      <td>...</td>\n",
       "      <td>...</td>\n",
       "      <td>...</td>\n",
       "      <td>...</td>\n",
       "      <td>...</td>\n",
       "      <td>...</td>\n",
       "      <td>...</td>\n",
       "    </tr>\n",
       "    <tr>\n",
       "      <th>retail_dense</th>\n",
       "      <td>2000.0</td>\n",
       "      <td>0.563258</td>\n",
       "      <td>0.152759</td>\n",
       "      <td>0.0</td>\n",
       "      <td>0.472441</td>\n",
       "      <td>0.562992</td>\n",
       "      <td>0.673228</td>\n",
       "      <td>0.972441</td>\n",
       "    </tr>\n",
       "    <tr>\n",
       "      <th>crime</th>\n",
       "      <td>2000.0</td>\n",
       "      <td>0.275939</td>\n",
       "      <td>0.182886</td>\n",
       "      <td>0.0</td>\n",
       "      <td>0.141712</td>\n",
       "      <td>0.241322</td>\n",
       "      <td>0.356615</td>\n",
       "      <td>0.977276</td>\n",
       "    </tr>\n",
       "  </tbody>\n",
       "</table>\n",
       "<p>11 rows × 8 columns</p>\n",
       "</div>"
      ],
      "text/plain": [
       "               count          mean           std      min           25%  \\\n",
       "id            2000.0   1000.500000    577.494589      1.0    500.750000   \n",
       "income        1941.0  56924.861927  10188.938399  19846.0  51336.000000   \n",
       "...              ...           ...           ...      ...           ...   \n",
       "retail_dense  2000.0      0.563258      0.152759      0.0      0.472441   \n",
       "crime         2000.0      0.275939      0.182886      0.0      0.141712   \n",
       "\n",
       "                       50%           75%           max  \n",
       "id             1000.500000   1500.250000   2000.000000  \n",
       "income        58633.000000  64407.000000  88671.000000  \n",
       "...                    ...           ...           ...  \n",
       "retail_dense      0.562992      0.673228      0.972441  \n",
       "crime             0.241322      0.356615      0.977276  \n",
       "\n",
       "[11 rows x 8 columns]"
      ]
     },
     "execution_count": 27,
     "metadata": {},
     "output_type": "execute_result"
    }
   ],
   "source": [
    "df.describe().T"
   ]
  },
  {
   "cell_type": "markdown",
   "id": "removed-lexington",
   "metadata": {},
   "source": [
    "<li>Target Column yani hedef stüun tahmin edilmeye çalışılan sütundur. Bu veride hedef sütun olarak product sütunu kullanılacaktır. Yani kişinin hangi ürünü satın alacağı tahmin edilmeye çalışılacaktır</li>\n",
    "\n",
    "<li>Varolan ID sütunu tahminelemede kullanılmayacağı için (çünkü yararlı bir bilgi içermemeketdir) silinecektir.</li>\n",
    "\n",
    "<li>Sayısal olan alanlar üzerinde işlem yapmaya gerek olmayacaktır</li>\n",
    "\n",
    "<li>income sütunu eksik değerler içermektedir</li>\n",
    "\n",
    "<li>job, area ve product sürunları kategorik veri içermektedir</li>"
   ]
  },
  {
   "cell_type": "code",
   "execution_count": 28,
   "id": "looking-helping",
   "metadata": {},
   "outputs": [
    {
     "data": {
      "text/plain": [
       "array(['vv', 'kd', 'pe', '11', 'kl', 'e2', 'nb', 'al', 'de', 'dz', 'pz',\n",
       "       'bf', 'f8', 'pq', 'qp', 'kp', 'am', 'po', 'nn', 'mm', 'kw', 'by',\n",
       "       'rn', 'gj', 'ax', 'ob', 'qw', 'gv', 'ke', 'sa', 'ks', 'cv', 'zz'],\n",
       "      dtype=object)"
      ]
     },
     "execution_count": 28,
     "metadata": {},
     "output_type": "execute_result"
    }
   ],
   "source": [
    "df.job.unique()"
   ]
  },
  {
   "cell_type": "code",
   "execution_count": 29,
   "id": "sound-october",
   "metadata": {},
   "outputs": [
    {
     "data": {
      "text/plain": [
       "(2000, 33)"
      ]
     },
     "execution_count": 29,
     "metadata": {},
     "output_type": "execute_result"
    }
   ],
   "source": [
    "dummies = pd.get_dummies(df.job, prefix='job')\n",
    "dummies.shape"
   ]
  },
  {
   "cell_type": "code",
   "execution_count": 31,
   "id": "monthly-elevation",
   "metadata": {},
   "outputs": [
    {
     "data": {
      "text/html": [
       "<div>\n",
       "<style scoped>\n",
       "    .dataframe tbody tr th:only-of-type {\n",
       "        vertical-align: middle;\n",
       "    }\n",
       "\n",
       "    .dataframe tbody tr th {\n",
       "        vertical-align: top;\n",
       "    }\n",
       "\n",
       "    .dataframe thead th {\n",
       "        text-align: right;\n",
       "    }\n",
       "</style>\n",
       "<table border=\"1\" class=\"dataframe\">\n",
       "  <thead>\n",
       "    <tr style=\"text-align: right;\">\n",
       "      <th></th>\n",
       "      <th>job_11</th>\n",
       "      <th>job_al</th>\n",
       "      <th>job_am</th>\n",
       "      <th>job_ax</th>\n",
       "      <th>...</th>\n",
       "      <th>job_rn</th>\n",
       "      <th>job_sa</th>\n",
       "      <th>job_vv</th>\n",
       "      <th>job_zz</th>\n",
       "    </tr>\n",
       "  </thead>\n",
       "  <tbody>\n",
       "    <tr>\n",
       "      <th>0</th>\n",
       "      <td>0</td>\n",
       "      <td>0</td>\n",
       "      <td>0</td>\n",
       "      <td>0</td>\n",
       "      <td>...</td>\n",
       "      <td>0</td>\n",
       "      <td>0</td>\n",
       "      <td>1</td>\n",
       "      <td>0</td>\n",
       "    </tr>\n",
       "    <tr>\n",
       "      <th>1</th>\n",
       "      <td>0</td>\n",
       "      <td>0</td>\n",
       "      <td>0</td>\n",
       "      <td>0</td>\n",
       "      <td>...</td>\n",
       "      <td>0</td>\n",
       "      <td>0</td>\n",
       "      <td>0</td>\n",
       "      <td>0</td>\n",
       "    </tr>\n",
       "    <tr>\n",
       "      <th>...</th>\n",
       "      <td>...</td>\n",
       "      <td>...</td>\n",
       "      <td>...</td>\n",
       "      <td>...</td>\n",
       "      <td>...</td>\n",
       "      <td>...</td>\n",
       "      <td>...</td>\n",
       "      <td>...</td>\n",
       "      <td>...</td>\n",
       "    </tr>\n",
       "    <tr>\n",
       "      <th>1998</th>\n",
       "      <td>0</td>\n",
       "      <td>0</td>\n",
       "      <td>0</td>\n",
       "      <td>0</td>\n",
       "      <td>...</td>\n",
       "      <td>0</td>\n",
       "      <td>0</td>\n",
       "      <td>0</td>\n",
       "      <td>0</td>\n",
       "    </tr>\n",
       "    <tr>\n",
       "      <th>1999</th>\n",
       "      <td>0</td>\n",
       "      <td>0</td>\n",
       "      <td>0</td>\n",
       "      <td>0</td>\n",
       "      <td>...</td>\n",
       "      <td>0</td>\n",
       "      <td>0</td>\n",
       "      <td>0</td>\n",
       "      <td>0</td>\n",
       "    </tr>\n",
       "  </tbody>\n",
       "</table>\n",
       "<p>2000 rows × 33 columns</p>\n",
       "</div>"
      ],
      "text/plain": [
       "      job_11  job_al  job_am  job_ax  ...  job_rn  job_sa  job_vv  job_zz\n",
       "0          0       0       0       0  ...       0       0       1       0\n",
       "1          0       0       0       0  ...       0       0       0       0\n",
       "...      ...     ...     ...     ...  ...     ...     ...     ...     ...\n",
       "1998       0       0       0       0  ...       0       0       0       0\n",
       "1999       0       0       0       0  ...       0       0       0       0\n",
       "\n",
       "[2000 rows x 33 columns]"
      ]
     },
     "execution_count": 31,
     "metadata": {},
     "output_type": "execute_result"
    }
   ],
   "source": [
    "dummies"
   ]
  },
  {
   "cell_type": "markdown",
   "id": "widespread-democracy",
   "metadata": {},
   "source": [
    "33 farklı iş kodu olduğundan, 33 dummy variable vardır. Ayrıca bir prefix belirlenmiştir, çünkü iş kodları (\"ax\" gibi) kendi başlarına anlamlı değillerdir.</br>\n",
    "\n",
    "Bundan sonra elde edilen dummy variabşe'lar orjinal veriye eklenmeli ve job alanı silinmelidir."
   ]
  },
  {
   "cell_type": "code",
   "execution_count": 32,
   "id": "biblical-blackberry",
   "metadata": {},
   "outputs": [
    {
     "data": {
      "text/html": [
       "<div>\n",
       "<style scoped>\n",
       "    .dataframe tbody tr th:only-of-type {\n",
       "        vertical-align: middle;\n",
       "    }\n",
       "\n",
       "    .dataframe tbody tr th {\n",
       "        vertical-align: top;\n",
       "    }\n",
       "\n",
       "    .dataframe thead th {\n",
       "        text-align: right;\n",
       "    }\n",
       "</style>\n",
       "<table border=\"1\" class=\"dataframe\">\n",
       "  <thead>\n",
       "    <tr style=\"text-align: right;\">\n",
       "      <th></th>\n",
       "      <th>id</th>\n",
       "      <th>job</th>\n",
       "      <th>area</th>\n",
       "      <th>income</th>\n",
       "      <th>...</th>\n",
       "      <th>job_rn</th>\n",
       "      <th>job_sa</th>\n",
       "      <th>job_vv</th>\n",
       "      <th>job_zz</th>\n",
       "    </tr>\n",
       "  </thead>\n",
       "  <tbody>\n",
       "    <tr>\n",
       "      <th>0</th>\n",
       "      <td>1</td>\n",
       "      <td>vv</td>\n",
       "      <td>c</td>\n",
       "      <td>50876.0</td>\n",
       "      <td>...</td>\n",
       "      <td>0</td>\n",
       "      <td>0</td>\n",
       "      <td>1</td>\n",
       "      <td>0</td>\n",
       "    </tr>\n",
       "    <tr>\n",
       "      <th>1</th>\n",
       "      <td>2</td>\n",
       "      <td>kd</td>\n",
       "      <td>c</td>\n",
       "      <td>60369.0</td>\n",
       "      <td>...</td>\n",
       "      <td>0</td>\n",
       "      <td>0</td>\n",
       "      <td>0</td>\n",
       "      <td>0</td>\n",
       "    </tr>\n",
       "    <tr>\n",
       "      <th>...</th>\n",
       "      <td>...</td>\n",
       "      <td>...</td>\n",
       "      <td>...</td>\n",
       "      <td>...</td>\n",
       "      <td>...</td>\n",
       "      <td>...</td>\n",
       "      <td>...</td>\n",
       "      <td>...</td>\n",
       "      <td>...</td>\n",
       "    </tr>\n",
       "    <tr>\n",
       "      <th>1998</th>\n",
       "      <td>1999</td>\n",
       "      <td>qp</td>\n",
       "      <td>c</td>\n",
       "      <td>67949.0</td>\n",
       "      <td>...</td>\n",
       "      <td>0</td>\n",
       "      <td>0</td>\n",
       "      <td>0</td>\n",
       "      <td>0</td>\n",
       "    </tr>\n",
       "    <tr>\n",
       "      <th>1999</th>\n",
       "      <td>2000</td>\n",
       "      <td>pe</td>\n",
       "      <td>c</td>\n",
       "      <td>61467.0</td>\n",
       "      <td>...</td>\n",
       "      <td>0</td>\n",
       "      <td>0</td>\n",
       "      <td>0</td>\n",
       "      <td>0</td>\n",
       "    </tr>\n",
       "  </tbody>\n",
       "</table>\n",
       "<p>2000 rows × 47 columns</p>\n",
       "</div>"
      ],
      "text/plain": [
       "        id job area   income  ...  job_rn  job_sa  job_vv  job_zz\n",
       "0        1  vv    c  50876.0  ...       0       0       1       0\n",
       "1        2  kd    c  60369.0  ...       0       0       0       0\n",
       "...    ...  ..  ...      ...  ...     ...     ...     ...     ...\n",
       "1998  1999  qp    c  67949.0  ...       0       0       0       0\n",
       "1999  2000  pe    c  61467.0  ...       0       0       0       0\n",
       "\n",
       "[2000 rows x 47 columns]"
      ]
     },
     "execution_count": 32,
     "metadata": {},
     "output_type": "execute_result"
    }
   ],
   "source": [
    "df = pd.concat([df, dummies], axis = 1)\n",
    "df"
   ]
  },
  {
   "cell_type": "code",
   "execution_count": 33,
   "id": "strategic-concrete",
   "metadata": {},
   "outputs": [
    {
     "data": {
      "text/html": [
       "<div>\n",
       "<style scoped>\n",
       "    .dataframe tbody tr th:only-of-type {\n",
       "        vertical-align: middle;\n",
       "    }\n",
       "\n",
       "    .dataframe tbody tr th {\n",
       "        vertical-align: top;\n",
       "    }\n",
       "\n",
       "    .dataframe thead th {\n",
       "        text-align: right;\n",
       "    }\n",
       "</style>\n",
       "<table border=\"1\" class=\"dataframe\">\n",
       "  <thead>\n",
       "    <tr style=\"text-align: right;\">\n",
       "      <th></th>\n",
       "      <th>id</th>\n",
       "      <th>area</th>\n",
       "      <th>income</th>\n",
       "      <th>aspect</th>\n",
       "      <th>...</th>\n",
       "      <th>job_rn</th>\n",
       "      <th>job_sa</th>\n",
       "      <th>job_vv</th>\n",
       "      <th>job_zz</th>\n",
       "    </tr>\n",
       "  </thead>\n",
       "  <tbody>\n",
       "    <tr>\n",
       "      <th>0</th>\n",
       "      <td>1</td>\n",
       "      <td>c</td>\n",
       "      <td>50876.0</td>\n",
       "      <td>13.100000</td>\n",
       "      <td>...</td>\n",
       "      <td>0</td>\n",
       "      <td>0</td>\n",
       "      <td>1</td>\n",
       "      <td>0</td>\n",
       "    </tr>\n",
       "    <tr>\n",
       "      <th>1</th>\n",
       "      <td>2</td>\n",
       "      <td>c</td>\n",
       "      <td>60369.0</td>\n",
       "      <td>18.625000</td>\n",
       "      <td>...</td>\n",
       "      <td>0</td>\n",
       "      <td>0</td>\n",
       "      <td>0</td>\n",
       "      <td>0</td>\n",
       "    </tr>\n",
       "    <tr>\n",
       "      <th>...</th>\n",
       "      <td>...</td>\n",
       "      <td>...</td>\n",
       "      <td>...</td>\n",
       "      <td>...</td>\n",
       "      <td>...</td>\n",
       "      <td>...</td>\n",
       "      <td>...</td>\n",
       "      <td>...</td>\n",
       "      <td>...</td>\n",
       "    </tr>\n",
       "    <tr>\n",
       "      <th>1998</th>\n",
       "      <td>1999</td>\n",
       "      <td>c</td>\n",
       "      <td>67949.0</td>\n",
       "      <td>5.733333</td>\n",
       "      <td>...</td>\n",
       "      <td>0</td>\n",
       "      <td>0</td>\n",
       "      <td>0</td>\n",
       "      <td>0</td>\n",
       "    </tr>\n",
       "    <tr>\n",
       "      <th>1999</th>\n",
       "      <td>2000</td>\n",
       "      <td>c</td>\n",
       "      <td>61467.0</td>\n",
       "      <td>16.891667</td>\n",
       "      <td>...</td>\n",
       "      <td>0</td>\n",
       "      <td>0</td>\n",
       "      <td>0</td>\n",
       "      <td>0</td>\n",
       "    </tr>\n",
       "  </tbody>\n",
       "</table>\n",
       "<p>2000 rows × 46 columns</p>\n",
       "</div>"
      ],
      "text/plain": [
       "        id area   income     aspect  ...  job_rn  job_sa  job_vv  job_zz\n",
       "0        1    c  50876.0  13.100000  ...       0       0       1       0\n",
       "1        2    c  60369.0  18.625000  ...       0       0       0       0\n",
       "...    ...  ...      ...        ...  ...     ...     ...     ...     ...\n",
       "1998  1999    c  67949.0   5.733333  ...       0       0       0       0\n",
       "1999  2000    c  61467.0  16.891667  ...       0       0       0       0\n",
       "\n",
       "[2000 rows x 46 columns]"
      ]
     },
     "execution_count": 33,
     "metadata": {},
     "output_type": "execute_result"
    }
   ],
   "source": [
    "df.drop('job', axis=1, inplace=True)\n",
    "df"
   ]
  },
  {
   "cell_type": "code",
   "execution_count": 34,
   "id": "integral-interference",
   "metadata": {},
   "outputs": [],
   "source": [
    "df = pd.concat([df, pd.get_dummies(df.area, prefix='area')], axis=1)\n",
    "df.drop('area', axis=1, inplace=True)"
   ]
  },
  {
   "cell_type": "code",
   "execution_count": 35,
   "id": "gross-johnston",
   "metadata": {},
   "outputs": [],
   "source": [
    "median = df.income.median()\n",
    "df['income'] = df.income.fillna(median)"
   ]
  },
  {
   "cell_type": "markdown",
   "id": "forced-times",
   "metadata": {},
   "source": [
    "Eksik değerleri doldurmanın daha gelişmiş yolları vardır, ancak daha fazla analiz gerektirirler. Örneğin, alanların veya iş kategorilerinin her biri için bir medyan hesaplanabilir."
   ]
  },
  {
   "cell_type": "code",
   "execution_count": 39,
   "id": "blond-ethiopia",
   "metadata": {},
   "outputs": [
    {
     "data": {
      "text/html": [
       "<div>\n",
       "<style scoped>\n",
       "    .dataframe tbody tr th:only-of-type {\n",
       "        vertical-align: middle;\n",
       "    }\n",
       "\n",
       "    .dataframe tbody tr th {\n",
       "        vertical-align: top;\n",
       "    }\n",
       "\n",
       "    .dataframe thead th {\n",
       "        text-align: right;\n",
       "    }\n",
       "</style>\n",
       "<table border=\"1\" class=\"dataframe\">\n",
       "  <thead>\n",
       "    <tr style=\"text-align: right;\">\n",
       "      <th></th>\n",
       "      <th>count</th>\n",
       "      <th>mean</th>\n",
       "      <th>std</th>\n",
       "      <th>min</th>\n",
       "      <th>25%</th>\n",
       "      <th>50%</th>\n",
       "      <th>75%</th>\n",
       "      <th>max</th>\n",
       "    </tr>\n",
       "  </thead>\n",
       "  <tbody>\n",
       "    <tr>\n",
       "      <th>id</th>\n",
       "      <td>2000.0</td>\n",
       "      <td>1000.5000</td>\n",
       "      <td>577.494589</td>\n",
       "      <td>1.0</td>\n",
       "      <td>500.75</td>\n",
       "      <td>1000.5</td>\n",
       "      <td>1500.25</td>\n",
       "      <td>2000.0</td>\n",
       "    </tr>\n",
       "    <tr>\n",
       "      <th>income</th>\n",
       "      <td>2000.0</td>\n",
       "      <td>56975.2520</td>\n",
       "      <td>10041.612557</td>\n",
       "      <td>19846.0</td>\n",
       "      <td>51690.00</td>\n",
       "      <td>58633.0</td>\n",
       "      <td>64230.00</td>\n",
       "      <td>88671.0</td>\n",
       "    </tr>\n",
       "    <tr>\n",
       "      <th>...</th>\n",
       "      <td>...</td>\n",
       "      <td>...</td>\n",
       "      <td>...</td>\n",
       "      <td>...</td>\n",
       "      <td>...</td>\n",
       "      <td>...</td>\n",
       "      <td>...</td>\n",
       "      <td>...</td>\n",
       "    </tr>\n",
       "    <tr>\n",
       "      <th>area_c</th>\n",
       "      <td>2000.0</td>\n",
       "      <td>0.4155</td>\n",
       "      <td>0.492931</td>\n",
       "      <td>0.0</td>\n",
       "      <td>0.00</td>\n",
       "      <td>0.0</td>\n",
       "      <td>1.00</td>\n",
       "      <td>1.0</td>\n",
       "    </tr>\n",
       "    <tr>\n",
       "      <th>area_d</th>\n",
       "      <td>2000.0</td>\n",
       "      <td>0.0780</td>\n",
       "      <td>0.268239</td>\n",
       "      <td>0.0</td>\n",
       "      <td>0.00</td>\n",
       "      <td>0.0</td>\n",
       "      <td>0.00</td>\n",
       "      <td>1.0</td>\n",
       "    </tr>\n",
       "  </tbody>\n",
       "</table>\n",
       "<p>48 rows × 8 columns</p>\n",
       "</div>"
      ],
      "text/plain": [
       "         count        mean           std      min       25%      50%  \\\n",
       "id      2000.0   1000.5000    577.494589      1.0    500.75   1000.5   \n",
       "income  2000.0  56975.2520  10041.612557  19846.0  51690.00  58633.0   \n",
       "...        ...         ...           ...      ...       ...      ...   \n",
       "area_c  2000.0      0.4155      0.492931      0.0      0.00      0.0   \n",
       "area_d  2000.0      0.0780      0.268239      0.0      0.00      0.0   \n",
       "\n",
       "             75%      max  \n",
       "id       1500.25   2000.0  \n",
       "income  64230.00  88671.0  \n",
       "...          ...      ...  \n",
       "area_c      1.00      1.0  \n",
       "area_d      0.00      1.0  \n",
       "\n",
       "[48 rows x 8 columns]"
      ]
     },
     "execution_count": 39,
     "metadata": {},
     "output_type": "execute_result"
    }
   ],
   "source": [
    "df.describe().T"
   ]
  },
  {
   "cell_type": "code",
   "execution_count": 36,
   "id": "taken-canyon",
   "metadata": {},
   "outputs": [
    {
     "data": {
      "text/plain": [
       "Index(['id', 'income', 'aspect', 'subscriptions', 'dist_healthy', 'save_rate',\n",
       "       'dist_unhealthy', 'age', 'pop_dense', 'retail_dense', 'crime',\n",
       "       'product', 'job_11', 'job_al', 'job_am', 'job_ax', 'job_bf', 'job_by',\n",
       "       'job_cv', 'job_de', 'job_dz', 'job_e2', 'job_f8', 'job_gj', 'job_gv',\n",
       "       'job_kd', 'job_ke', 'job_kl', 'job_kp', 'job_ks', 'job_kw', 'job_mm',\n",
       "       'job_nb', 'job_nn', 'job_ob', 'job_pe', 'job_po', 'job_pq', 'job_pz',\n",
       "       'job_qp', 'job_qw', 'job_rn', 'job_sa', 'job_vv', 'job_zz', 'area_a',\n",
       "       'area_b', 'area_c', 'area_d'],\n",
       "      dtype='object')"
      ]
     },
     "execution_count": 36,
     "metadata": {},
     "output_type": "execute_result"
    }
   ],
   "source": [
    "df.columns"
   ]
  },
  {
   "cell_type": "code",
   "execution_count": 37,
   "id": "breeding-necklace",
   "metadata": {},
   "outputs": [],
   "source": [
    "X_columns = df.columns.drop(['product', 'id'])"
   ]
  },
  {
   "cell_type": "code",
   "execution_count": 40,
   "id": "embedded-inside",
   "metadata": {},
   "outputs": [
    {
     "data": {
      "text/plain": [
       "Index(['income', 'aspect', 'subscriptions', 'dist_healthy', 'save_rate',\n",
       "       'dist_unhealthy', 'age', 'pop_dense', 'retail_dense', 'crime', 'job_11',\n",
       "       'job_al', 'job_am', 'job_ax', 'job_bf', 'job_by', 'job_cv', 'job_de',\n",
       "       'job_dz', 'job_e2', 'job_f8', 'job_gj', 'job_gv', 'job_kd', 'job_ke',\n",
       "       'job_kl', 'job_kp', 'job_ks', 'job_kw', 'job_mm', 'job_nb', 'job_nn',\n",
       "       'job_ob', 'job_pe', 'job_po', 'job_pq', 'job_pz', 'job_qp', 'job_qw',\n",
       "       'job_rn', 'job_sa', 'job_vv', 'job_zz', 'area_a', 'area_b', 'area_c',\n",
       "       'area_d'],\n",
       "      dtype='object')"
      ]
     },
     "execution_count": 40,
     "metadata": {},
     "output_type": "execute_result"
    }
   ],
   "source": [
    "X_columns"
   ]
  },
  {
   "cell_type": "code",
   "execution_count": 41,
   "id": "italian-thompson",
   "metadata": {},
   "outputs": [
    {
     "data": {
      "text/plain": [
       "array([[5.08760000e+04, 1.31000000e+01, 1.00000000e+00, ...,\n",
       "        0.00000000e+00, 1.00000000e+00, 0.00000000e+00],\n",
       "       [6.03690000e+04, 1.86250000e+01, 2.00000000e+00, ...,\n",
       "        0.00000000e+00, 1.00000000e+00, 0.00000000e+00],\n",
       "       [5.51260000e+04, 3.47666667e+01, 1.00000000e+00, ...,\n",
       "        0.00000000e+00, 1.00000000e+00, 0.00000000e+00],\n",
       "       ...,\n",
       "       [2.85950000e+04, 3.94250000e+01, 3.00000000e+00, ...,\n",
       "        0.00000000e+00, 0.00000000e+00, 1.00000000e+00],\n",
       "       [6.79490000e+04, 5.73333333e+00, 0.00000000e+00, ...,\n",
       "        0.00000000e+00, 1.00000000e+00, 0.00000000e+00],\n",
       "       [6.14670000e+04, 1.68916667e+01, 0.00000000e+00, ...,\n",
       "        0.00000000e+00, 1.00000000e+00, 0.00000000e+00]])"
      ]
     },
     "execution_count": 41,
     "metadata": {},
     "output_type": "execute_result"
    }
   ],
   "source": [
    "X = df[X_columns].values\n",
    "X"
   ]
  },
  {
   "cell_type": "code",
   "execution_count": 48,
   "id": "surprising-majority",
   "metadata": {},
   "outputs": [
    {
     "data": {
      "text/plain": [
       "Index(['a', 'b', 'c', 'd', 'e', 'f', 'g'], dtype='object')"
      ]
     },
     "execution_count": 48,
     "metadata": {},
     "output_type": "execute_result"
    }
   ],
   "source": [
    "dummies = pd.get_dummies(df['product'])\n",
    "products = dummies.columns\n",
    "y = dummies.values\n",
    "dummies.columns"
   ]
  },
  {
   "cell_type": "markdown",
   "id": "soviet-leave",
   "metadata": {},
   "source": [
    "Sınıflandırma sinir ağları, (2'den fazla kategori olması durumunda) categorical_crossentropy ve çıktı katmanında bir softmax aktivasyon fonksiyonu kullanmalıdır."
   ]
  },
  {
   "cell_type": "code",
   "execution_count": 43,
   "id": "spanish-motorcycle",
   "metadata": {},
   "outputs": [],
   "source": [
    "import numpy as np\n",
    "from tensorflow.keras.models import Sequential\n",
    "from tensorflow.keras.layers import Dense\n",
    "from tensorflow.keras.callbacks import EarlyStopping\n",
    "from sklearn.model_selection import train_test_split"
   ]
  },
  {
   "cell_type": "code",
   "execution_count": 44,
   "id": "collected-expert",
   "metadata": {},
   "outputs": [],
   "source": [
    "X_train, X_test, y_train, y_test = train_test_split(X, y, test_size=0.2, random_state = 42)"
   ]
  },
  {
   "cell_type": "code",
   "execution_count": 45,
   "id": "printable-circulation",
   "metadata": {},
   "outputs": [
    {
     "name": "stdout",
     "output_type": "stream",
     "text": [
      "Epoch 1/1000\n",
      "50/50 - 1s - loss: 5.5095 - accuracy: 0.3744 - val_loss: 1.5589 - val_accuracy: 0.5075\n",
      "Epoch 2/1000\n",
      "50/50 - 1s - loss: 1.3471 - accuracy: 0.4575 - val_loss: 1.2543 - val_accuracy: 0.4050\n",
      "Epoch 3/1000\n",
      "50/50 - 1s - loss: 1.2792 - accuracy: 0.4300 - val_loss: 1.3974 - val_accuracy: 0.4850\n",
      "Epoch 4/1000\n",
      "50/50 - 1s - loss: 1.2737 - accuracy: 0.4331 - val_loss: 1.2012 - val_accuracy: 0.3850\n",
      "Epoch 5/1000\n",
      "50/50 - 1s - loss: 1.2258 - accuracy: 0.4544 - val_loss: 1.1733 - val_accuracy: 0.5525\n",
      "Epoch 6/1000\n",
      "50/50 - 1s - loss: 1.2793 - accuracy: 0.4556 - val_loss: 1.1563 - val_accuracy: 0.4850\n",
      "Epoch 7/1000\n",
      "50/50 - 1s - loss: 1.3023 - accuracy: 0.4313 - val_loss: 1.1663 - val_accuracy: 0.4850\n",
      "Epoch 8/1000\n",
      "50/50 - 1s - loss: 1.2838 - accuracy: 0.4363 - val_loss: 1.1506 - val_accuracy: 0.6200\n",
      "Epoch 9/1000\n",
      "50/50 - 1s - loss: 1.2054 - accuracy: 0.4487 - val_loss: 1.3056 - val_accuracy: 0.3850\n",
      "Epoch 10/1000\n",
      "50/50 - 1s - loss: 1.2007 - accuracy: 0.4544 - val_loss: 1.1309 - val_accuracy: 0.4850\n",
      "Epoch 11/1000\n",
      "50/50 - 1s - loss: 1.2829 - accuracy: 0.4112 - val_loss: 1.1712 - val_accuracy: 0.4850\n",
      "Epoch 12/1000\n",
      "50/50 - 1s - loss: 1.2042 - accuracy: 0.4437 - val_loss: 1.1170 - val_accuracy: 0.4850\n",
      "Epoch 13/1000\n",
      "50/50 - 1s - loss: 1.2127 - accuracy: 0.4481 - val_loss: 1.1240 - val_accuracy: 0.4850\n",
      "Epoch 14/1000\n",
      "50/50 - 1s - loss: 1.1978 - accuracy: 0.4431 - val_loss: 1.1335 - val_accuracy: 0.4850\n",
      "Epoch 15/1000\n",
      "50/50 - 1s - loss: 1.1710 - accuracy: 0.4512 - val_loss: 1.1366 - val_accuracy: 0.3850\n",
      "Epoch 16/1000\n",
      "50/50 - 1s - loss: 1.1950 - accuracy: 0.4506 - val_loss: 1.1524 - val_accuracy: 0.4850\n",
      "Epoch 17/1000\n",
      "Restoring model weights from the end of the best epoch.\n",
      "50/50 - 1s - loss: 1.1756 - accuracy: 0.4663 - val_loss: 1.1388 - val_accuracy: 0.4850\n",
      "Epoch 00017: early stopping\n"
     ]
    },
    {
     "data": {
      "text/plain": [
       "<tensorflow.python.keras.callbacks.History at 0x7fd3a0310128>"
      ]
     },
     "execution_count": 45,
     "metadata": {},
     "output_type": "execute_result"
    }
   ],
   "source": [
    "model = Sequential()\n",
    "model.add(Dense(100, input_dim=X.shape[1], activation='relu', kernel_initializer='random_normal'))\n",
    "model.add(Dense(50, activation='relu', kernel_initializer='random_normal'))\n",
    "model.add(Dense(25, activation='relu', kernel_initializer='random_normal'))\n",
    "model.add(Dense(y.shape[1], activation='softmax', kernel_initializer='random_normal'))\n",
    "model.compile(loss='categorical_crossentropy', optimizer='adam', metrics=['accuracy'])\n",
    "\n",
    "monitor = EarlyStopping(monitor='val_loss', min_delta=1e-3, patience=5, verbose=1, \n",
    "                       mode='auto', restore_best_weights=True)\n",
    "model.fit(X_train, y_train, validation_data=(X_test, y_test), callbacks=[monitor], verbose=2,\n",
    "         epochs=1000)\n"
   ]
  },
  {
   "cell_type": "code",
   "execution_count": 46,
   "id": "resistant-macro",
   "metadata": {},
   "outputs": [],
   "source": [
    "prediction = model.predict(X_test)\n",
    "prediction = np.argmax(prediction, axis=1)"
   ]
  },
  {
   "cell_type": "code",
   "execution_count": 47,
   "id": "incredible-healthcare",
   "metadata": {},
   "outputs": [
    {
     "data": {
      "text/plain": [
       "0.485"
      ]
     },
     "execution_count": 47,
     "metadata": {},
     "output_type": "execute_result"
    }
   ],
   "source": [
    "from sklearn.metrics import accuracy_score\n",
    "\n",
    "accuracy_score(np.argmax(y_test, axis=1), prediction)"
   ]
  },
  {
   "cell_type": "code",
   "execution_count": null,
   "id": "conditional-muslim",
   "metadata": {},
   "outputs": [],
   "source": []
  }
 ],
 "metadata": {
  "kernelspec": {
   "display_name": "Python 3",
   "language": "python",
   "name": "python3"
  },
  "language_info": {
   "codemirror_mode": {
    "name": "ipython",
    "version": 3
   },
   "file_extension": ".py",
   "mimetype": "text/x-python",
   "name": "python",
   "nbconvert_exporter": "python",
   "pygments_lexer": "ipython3",
   "version": "3.6.10"
  }
 },
 "nbformat": 4,
 "nbformat_minor": 5
}
